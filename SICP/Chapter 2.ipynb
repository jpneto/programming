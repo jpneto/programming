{
 "cells": [
  {
   "cell_type": "markdown",
   "id": "8e855046",
   "metadata": {},
   "source": [
    "# The Structure & Interpretation of Computer Programs"
   ]
  },
  {
   "cell_type": "markdown",
   "id": "fb0a7b53",
   "metadata": {},
   "source": [
    "## Chapter 2, Building Abstractions with Data"
   ]
  },
  {
   "cell_type": "markdown",
   "id": "4001395d",
   "metadata": {},
   "source": [
    "> Why do we want compound data in a programming language? For the same reasons that we want\n",
    "compound procedures: to elevate the conceptual level at which we can design our programs, to increase\n",
    "the modularity of our designs, and to enhance the expressive power of our language. Just as the ability to\n",
    "define procedures enables us to deal with processes at a higher conceptual level than that of the primitive\n",
    "operations of the language, the ability to construct compound data objects enables us to deal with data at a\n",
    "higher conceptual level than that of the primitive data objects of the language.\n",
    "\n",
    "> We will see that the key to forming compound data is that a programming language should provide some\n",
    "kind of glue so that data objects can be combined to form more complex data objects. There are many\n",
    "possible kinds of glue. Indeed, we will discover how to form compound data using no special *data*\n",
    "operations at all, only procedures. This will further blur the distinction between *procedure* and *data*,\n",
    "which was already becoming tenuous toward the end of chapter 1. We will also explore some conventional\n",
    "techniques for representing sequences and trees. One key idea in dealing with compound data is the notion\n",
    "of *closure* -- that the glue we use for combining data objects should allow us to combine not only primitive\n",
    "data objects, but compound data objects as well. Another key idea is that compound data objects can serve\n",
    "as *conventional interfaces* for combining program modules in mix-and-match ways. We illustrate some of\n",
    "these ideas by presenting a simple graphics language that exploits closure.\n",
    "\n",
    "> We will then augment the representational power of our language by introducing *symbolic expressions* --\n",
    "data whose elementary parts can be arbitrary symbols rather than only numbers"
   ]
  },
  {
   "cell_type": "markdown",
   "id": "b4b91cd7",
   "metadata": {},
   "source": [
    "### Introduction to Data Abstraction"
   ]
  },
  {
   "cell_type": "markdown",
   "id": "6ad84410",
   "metadata": {},
   "source": [
    "Suppose we wish to do arithmetic with rational numbers. We can think of operations without assuming how we represent them. We need to consider the existence of some procedures:\n",
    "\n",
    "+ `(make-rat n d)` returns a rational n/d\n",
    "\n",
    "+ `(numer x)` return the numerator of x\n",
    "\n",
    "+ `(denom x)` return the denominator of x\n",
    "\n",
    "With these we can define rational addition:"
   ]
  },
  {
   "cell_type": "code",
   "execution_count": 2,
   "id": "28a4fe8d",
   "metadata": {},
   "outputs": [],
   "source": [
    "(define (add-rat x y)\n",
    "  (make-rat (+ (* (numer x) (denom y))\n",
    "               (* (numer y) (denom x)))\n",
    "            (* (denom x) (denom y))))"
   ]
  },
  {
   "cell_type": "markdown",
   "id": "7f4d7798",
   "metadata": {},
   "source": [
    "as well as other operations:"
   ]
  },
  {
   "cell_type": "code",
   "execution_count": 3,
   "id": "601672e2",
   "metadata": {},
   "outputs": [],
   "source": [
    "(define (sub-rat x y)\n",
    "  (make-rat (- (* (numer x) (denom y))\n",
    "               (* (numer y) (denom x)))\n",
    "            (* (denom x) (denom y))))\n",
    "\n",
    "(define (mul-rat x y)\n",
    "  (make-rat (* (numer x) (numer y))\n",
    "            (* (denom x) (denom y))))\n",
    "\n",
    "(define (div-rat x y)\n",
    "  (make-rat (* (numer x) (denom y))\n",
    "            (* (denom x) (numer y))))\n",
    "\n",
    "(define (equal-rat? x y)\n",
    "  (= (* (numer x) (denom y))\n",
    "     (* (numer y) (denom x))))"
   ]
  },
  {
   "cell_type": "markdown",
   "id": "6f67188f",
   "metadata": {},
   "source": [
    "How to represent rationals? One way is to think of a rational numbers as two integers.\n",
    "\n",
    "For that we can use Scheme's `cons`, `car` and `cdr`:"
   ]
  },
  {
   "cell_type": "code",
   "execution_count": 35,
   "id": "5dbe2563",
   "metadata": {},
   "outputs": [
    {
     "name": "stdout",
     "output_type": "stream",
     "text": [
      "1\n",
      "2\n"
     ]
    },
    {
     "data": {
      "text/plain": [
       "#t"
      ]
     },
     "execution_count": 35,
     "metadata": {},
     "output_type": "execute_result"
    }
   ],
   "source": [
    "(define x (cons 1 2)) ; makes a pair (1,2)\n",
    "\n",
    "(display (car x))\n",
    "(newline)\n",
    "(display (cdr x))\n",
    "(newline)\n",
    "(pair? x) ; check if it's a pair"
   ]
  },
  {
   "cell_type": "markdown",
   "id": "6841e8ea",
   "metadata": {},
   "source": [
    "So, rationals would be defined like this:"
   ]
  },
  {
   "cell_type": "code",
   "execution_count": 5,
   "id": "f5ad61c7",
   "metadata": {},
   "outputs": [],
   "source": [
    "(define (make-rat n d) (cons n d))\n",
    "\n",
    "(define (numer x) (car x))\n",
    "\n",
    "(define (denom x) (cdr x))\n",
    "\n",
    "; just add a print procedure:\n",
    "(define (print-rat x)\n",
    "  (newline)\n",
    "  (display (numer x))\n",
    "  (display \"/\")\n",
    "  (display (denom x)))"
   ]
  },
  {
   "cell_type": "code",
   "execution_count": 6,
   "id": "d059e94b",
   "metadata": {},
   "outputs": [
    {
     "name": "stdout",
     "output_type": "stream",
     "text": [
      "\n",
      "6/8"
     ]
    }
   ],
   "source": [
    "(define one-half (make-rat 1 2))\n",
    "(define one-fourth (make-rat 1 4))\n",
    "\n",
    "(print-rat (add-rat one-half one-fourth))"
   ]
  },
  {
   "cell_type": "markdown",
   "id": "4317a6bf",
   "metadata": {},
   "source": [
    "In this case, we could also force that the rational would be represented in its reduced form:"
   ]
  },
  {
   "cell_type": "code",
   "execution_count": 7,
   "id": "5a369be3",
   "metadata": {},
   "outputs": [
    {
     "name": "stdout",
     "output_type": "stream",
     "text": [
      "\n",
      "3/4"
     ]
    }
   ],
   "source": [
    "(define (gcd a b)\n",
    "  (if (= b 0)\n",
    "      a\n",
    "      (gcd b (remainder a b))))\n",
    "\n",
    "(define (make-rat n d)\n",
    "  (let ((g (gcd n d)))\n",
    "    (cons (/ n g) (/ d g))))\n",
    "\n",
    "(define one-half (make-rat 1 2))\n",
    "(define one-fourth (make-rat 1 4))\n",
    "\n",
    "(print-rat (add-rat one-half one-fourth))"
   ]
  },
  {
   "cell_type": "markdown",
   "id": "6274ecab",
   "metadata": {},
   "source": [
    "> Constraining the dependence on the representation to a few interface procedures helps us design programs\n",
    "as well as modify them, because it allows us to maintain the flexibility to consider alternate\n",
    "implementations."
   ]
  },
  {
   "cell_type": "markdown",
   "id": "c7b7860b",
   "metadata": {},
   "source": [
    "### What Is Meant by Data?"
   ]
  },
  {
   "cell_type": "markdown",
   "id": "c609f436",
   "metadata": {},
   "source": [
    "> We began the rational-number implementation in section 2.1.1 by implementing the rational-number\n",
    "operations add-rat, sub-rat, and so on in terms of three unspecified procedures: make-rat,\n",
    "numer, and denom. At that point, we could think of the operations as being defined in terms of data\n",
    "objects -- numerators, denominators, and rational numbers -- whose behavior was specified by the latter\n",
    "three procedures.\n",
    "\n",
    "> But exactly what is meant by data? It is not enough to say *whatever is implemented by the given\n",
    "selectors and constructors.* Clearly, not every arbitrary set of three procedures can serve as an appropriate\n",
    "basis for the rational-number implementation. We need to guarantee that, if we construct a rational number\n",
    "x from a pair of integers n and d, then extracting the numer and the denom of x and dividing them\n",
    "should yield the same result as dividing n by d. In other words, make-rat, numer, and denom must\n",
    "satisfy the condition that, for any integer n and any non-zero integer d, if x is (make-rat n d), then\n",
    "\n",
    "$$\\frac{\\text{(numer x)}}{\\text{(denom x)}} = \\frac{n}{d}$$\n",
    "\n",
    "> In fact, this is the only condition make-rat, numer, and denom must fulfill in order to form a suitable\n",
    "basis for a rational-number representation. In general, we can think of data as defined by some collection\n",
    "of selectors and constructors, together with specified conditions that these procedures must fulfill in order\n",
    "to be a valid representation"
   ]
  },
  {
   "cell_type": "markdown",
   "id": "01caf39a",
   "metadata": {},
   "source": [
    "> This point of view can serve to define not only ``high-level'' data objects, such as rational numbers, but\n",
    "lower-level objects as well. Consider the notion of a pair, which we used in order to define our rational\n",
    "numbers. We never actually said what a pair was, only that the language supplied procedures cons, car,\n",
    "and cdr for operating on pairs. But the only thing we need to know about these three operations is that if\n",
    "we glue two objects together using cons we can retrieve the objects using car and cdr. That is, the\n",
    "operations satisfy the condition that, for any objects x and y, if z is (cons x y) then (car z) is x\n",
    "and (cdr z) is y. Indeed, we mentioned that these three procedures are included as primitives in our\n",
    "language. However, any triple of procedures that satisfies the above condition can be used as the basis for\n",
    "implementing pairs. This point is illustrated strikingly by the fact that we could implement cons, car,\n",
    "and cdr without using any data structures at all but only using procedures. Here are the definitions:"
   ]
  },
  {
   "cell_type": "raw",
   "id": "6c132a30",
   "metadata": {},
   "source": [
    "(define (cons x y)\n",
    "  (define (dispatch m)\n",
    "    (cond ((= m 0) x)\n",
    "          ((= m 1) y)\n",
    "          (else (error \"Argument not 0 or 1 -- CONS\" m))))\n",
    "  dispatch)\n",
    "\n",
    "(define (car z) (z 0))\n",
    "(define (cdr z) (z 1))"
   ]
  },
  {
   "cell_type": "markdown",
   "id": "b855476a",
   "metadata": {},
   "source": [
    "> The point of exhibiting the procedural representation of pairs is not that our language works this way\n",
    "(Scheme, and Lisp systems in general, implement pairs directly, for efficiency reasons) but that it could\n",
    "work this way. The procedural representation, although obscure, is a perfectly adequate way to represent\n",
    "pairs, since it fulfills the only conditions that pairs need to fulfill. This example also demonstrates that the\n",
    "ability to manipulate procedures as objects automatically provides the ability to represent compound data.\n",
    "This may seem a curiosity now, but procedural representations of data will play a central role in our\n",
    "programming repertoire. This style of programming is often called **message passing**, and we will be using\n",
    "it as a basic tool in chapter 3 when we address the issues of modeling and simulation."
   ]
  },
  {
   "cell_type": "markdown",
   "id": "18b95354",
   "metadata": {},
   "source": [
    "### Hierarchical Data and the Closure Property"
   ]
  },
  {
   "cell_type": "markdown",
   "id": "d3c64770",
   "metadata": {},
   "source": [
    "> The ability to create pairs whose elements are pairs is the essence of list structure's importance as a\n",
    "representational tool. We refer to this ability as the **closure property** of cons. In general, an operation for\n",
    "combining data objects satisfies the closure property if the results of combining things with that operation\n",
    "can themselves be combined using the same operation.6 Closure is the key to power in any means of\n",
    "combination because it permits us to create *hierarchical structures* -- structures made up of parts, which\n",
    "themselves are made up of parts, and so on."
   ]
  },
  {
   "cell_type": "markdown",
   "id": "73be02da",
   "metadata": {},
   "source": [
    "### Representing Sequences"
   ]
  },
  {
   "cell_type": "markdown",
   "id": "18099941",
   "metadata": {},
   "source": [
    "> One of the useful structures we can build with pairs is a sequence -- an ordered collection of data objects.\n",
    "There are, of course, many ways to represent sequences in terms of pairs."
   ]
  },
  {
   "cell_type": "code",
   "execution_count": 8,
   "id": "d0b4f6bb",
   "metadata": {},
   "outputs": [
    {
     "data": {
      "text/plain": [
       "(1 2 3 4)"
      ]
     },
     "execution_count": 8,
     "metadata": {},
     "output_type": "execute_result"
    }
   ],
   "source": [
    "(define nil '())  ; nil in scheme is the empty list, so quoting an empty list gives you nil\n",
    "\n",
    "(cons 1\n",
    "  (cons 2\n",
    "    (cons 3\n",
    "      (cons 4 nil)))) "
   ]
  },
  {
   "cell_type": "markdown",
   "id": "bdea25e9",
   "metadata": {},
   "source": [
    "> Such a sequence of pairs, formed by nested conses, is called a list, and Scheme provides a primitive called\n",
    "list to help in constructing lists. The above sequence could be produced by (list 1 2 3 4). [...] We can think of car as selecting the first item in the list, and of cdr as selecting the sublist consisting of all but the first item."
   ]
  },
  {
   "cell_type": "code",
   "execution_count": 9,
   "id": "1820f24d",
   "metadata": {},
   "outputs": [
    {
     "name": "stdout",
     "output_type": "stream",
     "text": [
      "(1 2 3 4)\n"
     ]
    },
    {
     "data": {
      "text/plain": [
       "(2 3 4)"
      ]
     },
     "execution_count": 9,
     "metadata": {},
     "output_type": "execute_result"
    }
   ],
   "source": [
    "(display (list 1 2 3 4))\n",
    "(newline)\n",
    ";(display (cdr (list 1 2 3 4)))\n",
    "(cdr (list 1 2 3 4))"
   ]
  },
  {
   "cell_type": "markdown",
   "id": "1e247c5f",
   "metadata": {},
   "source": [
    "### List Operations"
   ]
  },
  {
   "cell_type": "code",
   "execution_count": 10,
   "id": "d9bd4b8e",
   "metadata": {},
   "outputs": [
    {
     "data": {
      "text/plain": [
       "3"
      ]
     },
     "execution_count": 10,
     "metadata": {},
     "output_type": "execute_result"
    }
   ],
   "source": [
    "; index of list\n",
    "(define (list-ref xs n)\n",
    "  (if (= n 0)\n",
    "      (car xs)\n",
    "      (list-ref (cdr xs) (- n 1))))\n",
    "\n",
    "(list-ref (list 1 2 3 4) 2)"
   ]
  },
  {
   "cell_type": "code",
   "execution_count": 11,
   "id": "004daafc",
   "metadata": {},
   "outputs": [],
   "source": [
    "; length of list\n",
    "(define (length xs)\n",
    "  (if (null? xs)\n",
    "      0\n",
    "      (+ 1 (length (cdr xs)))))"
   ]
  },
  {
   "cell_type": "code",
   "execution_count": 12,
   "id": "782f2244",
   "metadata": {},
   "outputs": [],
   "source": [
    "; concatenate lists\n",
    "(define (append xs ys)\n",
    "  (if (null? xs)\n",
    "      ys\n",
    "      (cons (car xs) (append (cdr xs) ys))))"
   ]
  },
  {
   "cell_type": "code",
   "execution_count": 13,
   "id": "8d936b14",
   "metadata": {},
   "outputs": [
    {
     "data": {
      "text/plain": [
       "(1 4 9 16)"
      ]
     },
     "execution_count": 13,
     "metadata": {},
     "output_type": "execute_result"
    }
   ],
   "source": [
    "; mapping over a list\n",
    "(define (map f xs)\n",
    "  (if (null? xs)\n",
    "      nil\n",
    "      (cons (f (car xs))\n",
    "            (map f (cdr xs)))))\n",
    "\n",
    "(map (lambda (x) (* x x)) (list 1 2 3 4))"
   ]
  },
  {
   "cell_type": "markdown",
   "id": "88761b7a",
   "metadata": {},
   "source": [
    "> Map is an important construct, not only because it captures a common pattern, but because it establishes a\n",
    "higher level of abstraction in dealing with lists. [...] map helps establish an abstraction barrier that isolates the implementation of procedures that transform lists from the details of how the elements of the list are extracted and combined."
   ]
  },
  {
   "cell_type": "code",
   "execution_count": 14,
   "id": "8d1aef8a",
   "metadata": {},
   "outputs": [
    {
     "name": "stdout",
     "output_type": "stream",
     "text": [
      "\n",
      "57\n",
      "321\n",
      "88"
     ]
    },
    {
     "data": {
      "text/plain": [
       "#t"
      ]
     },
     "execution_count": 14,
     "metadata": {},
     "output_type": "execute_result"
    }
   ],
   "source": [
    "; implementing a for-each command\n",
    "(define (for-each f xs) \n",
    "  (cond \n",
    "    ((null? xs) #t) \n",
    "    (else       (f (car xs)) \n",
    "                (for-each f (cdr xs))))) \n",
    " \n",
    "(for-each (lambda (x) (newline) (display x)) (list 57 321 88))"
   ]
  },
  {
   "cell_type": "markdown",
   "id": "30c97e4d",
   "metadata": {},
   "source": [
    "### Hierarchical Structures"
   ]
  },
  {
   "cell_type": "markdown",
   "id": "38015ae0",
   "metadata": {},
   "source": [
    "> The representation of sequences in terms of lists generalizes naturally to represent sequences whose\n",
    "elements may themselves be sequences [...] Another way to think of sequences whose elements are sequences is as trees. The elements of the sequence are the branches of the tree, and elements that are themselves sequences are subtrees [...] Recursion is a natural tool for dealing with tree structures, since we can often reduce operations on trees to\n",
    "operations on their branches, which reduce in turn to operations on the branches of the branches, and so on,\n",
    "until we reach the leaves of the tree."
   ]
  },
  {
   "cell_type": "code",
   "execution_count": 15,
   "id": "c4f52eb0",
   "metadata": {},
   "outputs": [
    {
     "data": {
      "text/plain": [
       "((1 2) 3 4)"
      ]
     },
     "execution_count": 15,
     "metadata": {},
     "output_type": "execute_result"
    }
   ],
   "source": [
    "(cons (list 1 2) (list 3 4))"
   ]
  },
  {
   "cell_type": "code",
   "execution_count": 16,
   "id": "4476d032",
   "metadata": {},
   "outputs": [],
   "source": [
    "; count leaves on a tree\n",
    "(define (count-leaves x)\n",
    "  (cond ((null? x) 0)\n",
    "        ((not (pair? x)) 1)\n",
    "        (else (+ (count-leaves (car x))\n",
    "                 (count-leaves (cdr x))))))\n",
    "\n",
    "; mapping over trees\n",
    "(define (scale-tree tree factor)\n",
    "  (map (lambda (sub-tree)\n",
    "         (if (pair? sub-tree)\n",
    "             (scale-tree sub-tree factor)\n",
    "             (* sub-tree factor)))\n",
    "       tree))"
   ]
  },
  {
   "cell_type": "markdown",
   "id": "7c919b78",
   "metadata": {},
   "source": [
    "### Sequences as Conventional Interfaces"
   ]
  },
  {
   "cell_type": "markdown",
   "id": "e7b25216",
   "metadata": {},
   "source": [
    "This section talks about the use of flows to pass information among procedures (à lá pipes)\n",
    "\n",
    "> The key to organizing programs so as to more clearly reflect the signal-flow structure is to concentrate on\n",
    "the ``signals'' that flow from one stage in the process to the next. If we represent these signals as lists, then\n",
    "we can use list operations to implement the processing at each of the stages."
   ]
  },
  {
   "cell_type": "code",
   "execution_count": 17,
   "id": "ceade0b5",
   "metadata": {},
   "outputs": [],
   "source": [
    "; filter procedure\n",
    "(define (filter p xs)\n",
    "  (cond ((null? xs) nil)\n",
    "        ((p (car xs))\n",
    "         (cons (car xs)\n",
    "               (filter p (cdr xs))))\n",
    "        (else  (filter p (cdr xs)))))\n",
    "\n",
    "; fold\n",
    "(define (accumulate op initial xs)\n",
    "  (if (null? xs)\n",
    "      initial\n",
    "      (op (car xs)\n",
    "          (accumulate op initial (cdr xs)))))\n",
    "\n",
    "; range\n",
    "(define (range low high)\n",
    "  (if (> low high)\n",
    "      nil\n",
    "      (cons low (range (+ low 1) high))))"
   ]
  },
  {
   "cell_type": "markdown",
   "id": "0cf9992f",
   "metadata": {},
   "source": [
    "Let's try to make a procedure that creates a list of even fibonacci numbers:"
   ]
  },
  {
   "cell_type": "code",
   "execution_count": 18,
   "id": "d6841e0a",
   "metadata": {},
   "outputs": [
    {
     "data": {
      "text/plain": [
       "(0 2 8 34 144 610)"
      ]
     },
     "execution_count": 18,
     "metadata": {},
     "output_type": "execute_result"
    }
   ],
   "source": [
    "(define (fib n)\n",
    "  (fib-iter 1 0 n))\n",
    "\n",
    "(define (fib-iter a b count)\n",
    "  (if (= count 0)\n",
    "      b\n",
    "      (fib-iter (+ a b) a (- count 1))))\n",
    "\n",
    "; even-fibs = range >> map fib >> filter even >> accumulate\n",
    "(define (even-fibs n)\n",
    "  (accumulate cons\n",
    "              nil\n",
    "              (filter even?\n",
    "                      (map fib\n",
    "                           (range 0 n)))))\n",
    "\n",
    "(even-fibs 15)"
   ]
  },
  {
   "cell_type": "markdown",
   "id": "60bf4608",
   "metadata": {},
   "source": [
    "> The value of expressing programs as sequence operations is that this helps us make program designs that\n",
    "are modular, that is, designs that are constructed by combining relatively independent pieces. We can\n",
    "encourage modular design by providing a library of standard components together with a conventional\n",
    "interface for connecting the components in flexible ways.\n",
    "\n",
    "> Modular construction is a powerful strategy for controlling complexity in engineering design. In real signal processing applications, for example, designers regularly build systems by cascading elements selected\n",
    "from standardized families of filters and transducers. Similarly, sequence operations provide a library of\n",
    "standard program elements that we can mix and match. \n",
    "\n",
    "> Sequences, implemented here as lists, serve as a conventional interface that permits us to combine\n",
    "processing modules. Additionally, when we uniformly represent structures as sequences, we have localized\n",
    "the data-structure dependencies in our programs to a small number of sequence operations. By changing\n",
    "these, we can experiment with alternative representations of sequences, while leaving the overall design of\n",
    "our programs intact."
   ]
  },
  {
   "cell_type": "markdown",
   "id": "a38017ca",
   "metadata": {},
   "source": [
    "### Nested Mappings"
   ]
  },
  {
   "cell_type": "markdown",
   "id": "e3a05aaf",
   "metadata": {},
   "source": [
    "Consider this problem: Given a positive integer n, find all ordered pairs of distinct positive integers i and j, where 1< j< i< n, such that i + j is prime."
   ]
  },
  {
   "cell_type": "code",
   "execution_count": 19,
   "id": "12c78af3",
   "metadata": {},
   "outputs": [
    {
     "data": {
      "text/plain": [
       "((2 1 3) (3 2 5) (4 1 5) (4 3 7) (5 2 7) (6 1 7) (6 5 11) (7 4 11) (7 6 13))"
      ]
     },
     "execution_count": 19,
     "metadata": {},
     "output_type": "execute_result"
    }
   ],
   "source": [
    ";;;;;;;;;;;;;;;;;;;;;;;;;;;;;;\n",
    "; operations for checking if prime\n",
    "(define (square x) \n",
    "  (* x x)) \n",
    "\n",
    "(define (divides? a b)\n",
    "  (= (remainder b a) 0))\n",
    "\n",
    "(define (find-divisor n test-divisor)\n",
    "  (cond ((> (square test-divisor) n) n)\n",
    "        ((divides? test-divisor n) test-divisor)\n",
    "        (else (find-divisor n (+ test-divisor 1)))))\n",
    "\n",
    "(define (smallest-divisor n)\n",
    "  (find-divisor n 2))\n",
    "\n",
    "(define (prime? n)\n",
    "  (= n (smallest-divisor n)))\n",
    "\n",
    "(define (prime-sum? pair)\n",
    "  (prime? (+ (car pair) (cadr pair))))\n",
    ";;;;;;;;;;;;;;;;;;;;;;;;;;;;;;\n",
    "\n",
    "(define (flatmap f xs)\n",
    "  (accumulate append nil (map f xs)))\n",
    "\n",
    "(define (make-pair-sum pair)\n",
    "  (list (car pair) (cadr pair) (+ (car pair) (cadr pair))))\n",
    "\n",
    "(define (prime-sum-pairs n)\n",
    "  (map make-pair-sum\n",
    "       (filter prime-sum?\n",
    "               (flatmap\n",
    "                 (lambda (i)\n",
    "                   (map (lambda (j) (list i j))\n",
    "                        (range 1 (- i 1))))\n",
    "                 (range 1 n)))))\n",
    "\n",
    "(prime-sum-pairs 7)"
   ]
  },
  {
   "cell_type": "markdown",
   "id": "d9128756",
   "metadata": {},
   "source": [
    "Another example: computing permutations"
   ]
  },
  {
   "cell_type": "code",
   "execution_count": 20,
   "id": "0fcd1366",
   "metadata": {},
   "outputs": [
    {
     "data": {
      "text/plain": [
       "((1 2 3) (1 3 2) (2 1 3) (2 3 1) (3 1 2) (3 2 1))"
      ]
     },
     "execution_count": 20,
     "metadata": {},
     "output_type": "execute_result"
    }
   ],
   "source": [
    "(define (remove item sequence)\n",
    "  (filter (lambda (x) (not (= x item)))\n",
    "          sequence))\n",
    "\n",
    "(define (permutations s)\n",
    "  (if (null? s)                         ; empty set?\n",
    "      (list nil)                        ; sequence containing empty set\n",
    "      (flatmap (lambda (x)\n",
    "                 (map (lambda (p) (cons x p))\n",
    "                      (permutations (remove x s))))\n",
    "               s)))\n",
    "\n",
    "(permutations (range 1 3))"
   ]
  },
  {
   "cell_type": "markdown",
   "id": "e2ce1326",
   "metadata": {},
   "source": [
    "### Symbolic Data"
   ]
  },
  {
   "cell_type": "markdown",
   "id": "62b9aa10",
   "metadata": {},
   "source": [
    "An important extension is to make it possible to work with arbitrary synbols as data, not just numbers.\n",
    "\n",
    "> In order to manipulate symbols we need a new element in our language: the ability to quote a data object.\n",
    "Suppose we want to construct the list `(a b)`. We can't accomplish this with `(list a b)`, because this\n",
    "expression constructs a list of the values of a and b rather than the symbols themselves. This issue is well\n",
    "known in the context of natural languages, where words and sentences may be regarded either as semantic\n",
    "entities or as character strings (syntactic entities). The common practice in natural languages is to use\n",
    "quotation marks to indicate that a word or a sentence is to be treated literally as a string of characters. [...] our format for quoting differs from that of natural languages in that we place a quotation mark (traditionally, the single quote symbol ') only at the beginning of the object to be quoted."
   ]
  },
  {
   "cell_type": "code",
   "execution_count": 24,
   "id": "3d64e3d6",
   "metadata": {},
   "outputs": [
    {
     "name": "stdout",
     "output_type": "stream",
     "text": [
      "(1 2)(a b)(a 2)"
     ]
    }
   ],
   "source": [
    "(define a 1)\n",
    "(define b 2)\n",
    "\n",
    "(display (list a b)   )\n",
    "(display (list 'a 'b) )\n",
    "(display (list 'a b)  )"
   ]
  },
  {
   "cell_type": "code",
   "execution_count": 27,
   "id": "355b0961",
   "metadata": {},
   "outputs": [
    {
     "name": "stdout",
     "output_type": "stream",
     "text": [
      "a\n",
      "(b c)"
     ]
    }
   ],
   "source": [
    "(display (car '(a b c)) ) (newline)\n",
    "(display (cdr '(a b c)) ) "
   ]
  },
  {
   "cell_type": "markdown",
   "id": "31f8ff14",
   "metadata": {},
   "source": [
    "> One additional primitive used in manipulating symbols is `eq?`, which takes two symbols as arguments and\n",
    "tests whether they are the same [...] Using eq?, we can implement a useful procedure called memq. This\n",
    "takes two arguments, a symbol and a list. If the symbol is not contained in the list (i.e., is not eq? to any\n",
    "item in the list), then memq returns false. Otherwise, it returns the sublist of the list beginning with the first\n",
    "occurrence of the symbol"
   ]
  },
  {
   "cell_type": "code",
   "execution_count": 28,
   "id": "56854173",
   "metadata": {},
   "outputs": [
    {
     "data": {
      "text/plain": [
       "(apple pear)"
      ]
     },
     "execution_count": 28,
     "metadata": {},
     "output_type": "execute_result"
    }
   ],
   "source": [
    "(define (memq item x)\n",
    "  (cond ((null? x) false)\n",
    "        ((eq? item (car x)) x)\n",
    "        (else (memq item (cdr x)))))\n",
    "\n",
    "(memq 'apple '(x (apple sauce) y apple pear))"
   ]
  },
  {
   "cell_type": "markdown",
   "id": "8db462e9",
   "metadata": {},
   "source": [
    "### Representing Sets"
   ]
  },
  {
   "cell_type": "markdown",
   "id": "da1bea0b",
   "metadata": {},
   "source": [
    "> Informally, a set is simply a collection of distinct objects. To give a more precise definition we can employ\n",
    "the method of data abstraction. That is, we define *set* by specifying the operations that are to be used on\n",
    "sets. These are `union-set`, `intersection-set`, `element-of-set?`, and `adjoin-set`.\n",
    "\n",
    "One way to represent a set is as a unordered list of its elements in which no element appears more than once"
   ]
  },
  {
   "cell_type": "code",
   "execution_count": null,
   "id": "44eb52ba",
   "metadata": {},
   "outputs": [],
   "source": [
    "(define (element-of-set? x set)\n",
    "  (cond ((null? set) false)\n",
    "        ((equal? x (car set)) true)\n",
    "        (else (element-of-set? x (cdr set)))))\n",
    "\n",
    "(define (adjoin-set x set)\n",
    "  (if (element-of-set? x set)\n",
    "      set\n",
    "      (cons x set)))\n",
    "\n",
    "(define (intersection-set set1 set2)\n",
    "  (cond ((or (null? set1) (null? set2)) '())\n",
    "        ((element-of-set? (car set1) set2)\n",
    "         (cons (car set1)\n",
    "               (intersection-set (cdr set1) set2)))\n",
    "        (else (intersection-set (cdr set1) set2))))\n",
    "\n",
    "(define (union-set set1 set2) \n",
    "  (if (null? set1) \n",
    "      set2 \n",
    "      (union-set (cdr set1) (adjoin-set (car set1) set2)))) "
   ]
  },
  {
   "cell_type": "markdown",
   "id": "5a6e044f",
   "metadata": {},
   "source": [
    "The book includes alternative implementations for ordered lists and binary search trees."
   ]
  },
  {
   "cell_type": "code",
   "execution_count": null,
   "id": "4aaa0c4f",
   "metadata": {},
   "outputs": [],
   "source": [
    ";; BINARY TREES\n",
    "(define (entry tree) (car tree))\n",
    "\n",
    "(define (left-branch tree) (cadr tree))\n",
    "\n",
    "(define (right-branch tree) (caddr tree))\n",
    "\n",
    "(define (make-tree entry left right)\n",
    "  (list entry left right))\n",
    "\n",
    "(define (element-of-set? x set)\n",
    "  (cond ((null? set) false)\n",
    "        ((= x (entry set)) true)\n",
    "        ((< x (entry set))\n",
    "         (element-of-set? x (left-branch set)))\n",
    "        ((> x (entry set))\n",
    "         (element-of-set? x (right-branch set)))))\n",
    "\n",
    "(define (adjoin-set x set)\n",
    "  (cond ((null? set) (make-tree x '() '()))\n",
    "        ((= x (entry set)) set)\n",
    "        ((< x (entry set))\n",
    "         (make-tree (entry set) \n",
    "                    (adjoin-set x (left-branch set))\n",
    "                    (right-branch set)))\n",
    "        ((> x (entry set))\n",
    "         (make-tree (entry set)\n",
    "                    (left-branch set)\n",
    "                    (adjoin-set x (right-branch set))))))"
   ]
  },
  {
   "cell_type": "markdown",
   "id": "2fb9bb69",
   "metadata": {},
   "source": [
    "### Multiple Representations for Abstract Data"
   ]
  },
  {
   "cell_type": "markdown",
   "id": "9e7b8cbd",
   "metadata": {},
   "source": [
    "> there might be more than one useful representation for a data object, and we might like to\n",
    "design systems that can deal with multiple representations. To take a simple example, complex numbers\n",
    "may be represented in two almost equivalent ways: in rectangular form (real and imaginary parts) and in\n",
    "polar form (magnitude and angle). Sometimes rectangular form is more appropriate and sometimes polar\n",
    "form is more appropriate. Indeed, it is perfectly plausible to imagine a system in which complex numbers\n",
    "are represented in both ways, and in which the procedures for manipulating complex numbers work with\n",
    "either representation.\n",
    "\n",
    "> In this section, we will learn how to cope with data that may be represented in different ways by different\n",
    "parts of a program. This requires constructing generic procedures -- procedures that can operate on data\n",
    "that may be represented in more than one way. Our main technique for building generic procedures will be\n",
    "to work in terms of data objects that have type tags, that is, data objects that include explicit information\n",
    "about how they are to be processed. We will also discuss data-directed programming, a powerful and\n",
    "convenient implementation strategy for additively assembling systems with generic operations."
   ]
  },
  {
   "cell_type": "markdown",
   "id": "0bf69259",
   "metadata": {},
   "source": [
    "We can define four selectors `real-part`, `imag-part`, `magnitude`, and `angle` that will be defined depending the chosen representation of a complex number. The `make-from-real-imag` and `make-from-mag-ang` will be constructors"
   ]
  },
  {
   "cell_type": "code",
   "execution_count": null,
   "id": "5c69c24c",
   "metadata": {},
   "outputs": [],
   "source": [
    "(define (add-complex z1 z2)\n",
    "  (make-from-real-imag (+ (real-part z1) (real-part z2))\n",
    "                       (+ (imag-part z1) (imag-part z2))))"
   ]
  },
  {
   "cell_type": "markdown",
   "id": "68c64740",
   "metadata": {},
   "source": [
    "This operation is agnostic to the real representation of a complex number!"
   ]
  },
  {
   "cell_type": "markdown",
   "id": "a3a5064a",
   "metadata": {},
   "source": [
    "The next selectors/constructors are based on the Cartesian coordinates:"
   ]
  },
  {
   "cell_type": "code",
   "execution_count": null,
   "id": "cf39ce79",
   "metadata": {},
   "outputs": [],
   "source": [
    "(define (real-part z) (car z))\n",
    "\n",
    "(define (imag-part z) (cdr z))\n",
    "\n",
    "(define (magnitude z)\n",
    "  (sqrt (+ (square (real-part z)) (square (imag-part z)))))\n",
    "\n",
    "(define (angle z)\n",
    "  (atan (imag-part z) (real-part z)))\n",
    "\n",
    "(define (make-from-real-imag x y) (cons x y))\n",
    "\n",
    "(define (make-from-mag-ang r a) \n",
    "  (cons (* r (cos a)) (* r (sin a))))"
   ]
  },
  {
   "cell_type": "markdown",
   "id": "5ad4e4bb",
   "metadata": {},
   "source": [
    "The next one is a representation based on polar coordinates:"
   ]
  },
  {
   "cell_type": "code",
   "execution_count": 40,
   "id": "71940f96",
   "metadata": {},
   "outputs": [],
   "source": [
    "(define (real-part z)\n",
    "  (* (magnitude z) (cos (angle z))))\n",
    "\n",
    "(define (imag-part z)\n",
    "  (* (magnitude z) (sin (angle z))))\n",
    "\n",
    "(define (magnitude z) (car z))\n",
    "\n",
    "(define (angle z) (cdr z))\n",
    "\n",
    "(define (make-from-real-imag x y) \n",
    "  (cons (sqrt (+ (square x) (square y)))\n",
    "        (atan y x)))\n",
    "\n",
    "(define (make-from-mag-ang r a) (cons r a))"
   ]
  },
  {
   "cell_type": "markdown",
   "id": "1fb97018",
   "metadata": {},
   "source": [
    "### Tagged data"
   ]
  },
  {
   "cell_type": "markdown",
   "id": "7b2174d6",
   "metadata": {},
   "source": [
    "And if we wished to used both representations? One way would be to tag each value to its representations (like `rectangular` and `polar`), in order for the program to distinguish between them. One way to to attach the tag within a list."
   ]
  },
  {
   "cell_type": "code",
   "execution_count": null,
   "id": "89862b28",
   "metadata": {},
   "outputs": [],
   "source": [
    "(define (attach-tag type-tag contents)\n",
    "  (cons type-tag contents))\n",
    "\n",
    "(define (type-tag datum)\n",
    "  (if (pair? datum)\n",
    "      (car datum)\n",
    "      (error \"Bad tagged datum -- TYPE-TAG\" datum)))\n",
    "\n",
    "(define (contents datum)\n",
    "  (if (pair? datum)\n",
    "      (cdr datum)\n",
    "      (error \"Bad tagged datum -- CONTENTS\" datum)))"
   ]
  },
  {
   "cell_type": "markdown",
   "id": "641de379",
   "metadata": {},
   "source": [
    "To check if a complex number has some representation:"
   ]
  },
  {
   "cell_type": "code",
   "execution_count": null,
   "id": "17de30d2",
   "metadata": {},
   "outputs": [],
   "source": [
    "(define (rectangular? z)\n",
    "  (eq? (type-tag z) 'rectangular))\n",
    "\n",
    "(define (polar? z)\n",
    "  (eq? (type-tag z) 'polar))"
   ]
  },
  {
   "cell_type": "markdown",
   "id": "b87edfcc",
   "metadata": {},
   "source": [
    "Then the selectors/constructors would need to be adapted,"
   ]
  },
  {
   "cell_type": "code",
   "execution_count": 42,
   "id": "19027ebe",
   "metadata": {},
   "outputs": [],
   "source": [
    ";; (rectangular)\n",
    "\n",
    "(define (real-part-rectangular z) (car z))\n",
    "\n",
    "(define (imag-part-rectangular z) (cdr z))\n",
    "\n",
    "(define (magnitude-rectangular z)\n",
    "  (sqrt (+ (square (real-part-rectangular z))\n",
    "           (square (imag-part-rectangular z)))))\n",
    "\n",
    "(define (angle-rectangular z)\n",
    "  (atan (imag-part-rectangular z)\n",
    "        (real-part-rectangular z)))\n",
    "\n",
    "(define (make-from-real-imag-rectangular x y)\n",
    "  (attach-tag 'rectangular (cons x y)))\n",
    "\n",
    "(define (make-from-mag-ang-rectangular r a) \n",
    "  (attach-tag 'rectangular\n",
    "              (cons (* r (cos a)) (* r (sin a)))))\n",
    "\n",
    ";; (polar)\n",
    "\n",
    "(define (real-part-polar z)\n",
    "  (* (magnitude-polar z) (cos (angle-polar z))))\n",
    "\n",
    "(define (imag-part-polar z)\n",
    "  (* (magnitude-polar z) (sin (angle-polar z))))\n",
    "\n",
    "(define (magnitude-polar z) (car z))\n",
    "\n",
    "(define (angle-polar z) (cdr z))\n",
    "\n",
    "(define (make-from-real-imag-polar x y) \n",
    "  (attach-tag 'polar\n",
    "               (cons (sqrt (+ (square x) (square y)))\n",
    "                     (atan y x))))\n",
    "\n",
    "(define (make-from-mag-ang-polar r a)\n",
    "  (attach-tag 'polar (cons r a)))"
   ]
  },
  {
   "cell_type": "markdown",
   "id": "15f7a190",
   "metadata": {},
   "source": [
    "And also the generic selectors would need to choose between the two possible representations:"
   ]
  },
  {
   "cell_type": "code",
   "execution_count": null,
   "id": "28d70ffc",
   "metadata": {},
   "outputs": [],
   "source": [
    "(define (real-part z)\n",
    "  (cond ((rectangular? z) \n",
    "         (real-part-rectangular (contents z)))\n",
    "        ((polar? z)\n",
    "         (real-part-polar (contents z)))\n",
    "        (else (error \"Unknown type -- REAL-PART\" z))))\n",
    "\n",
    "(define (imag-part z)\n",
    "  (cond ((rectangular? z)\n",
    "         (imag-part-rectangular (contents z)))\n",
    "        ((polar? z)\n",
    "         (imag-part-polar (contents z)))\n",
    "        (else (error \"Unknown type -- IMAG-PART\" z))))\n",
    "\n",
    "(define (magnitude z)\n",
    "  (cond ((rectangular? z)\n",
    "         (magnitude-rectangular (contents z)))\n",
    "        ((polar? z)\n",
    "         (magnitude-polar (contents z)))\n",
    "        (else (error \"Unknown type -- MAGNITUDE\" z))))\n",
    "\n",
    "(define (angle z)\n",
    "  (cond ((rectangular? z)\n",
    "         (angle-rectangular (contents z)))\n",
    "        ((polar? z)\n",
    "         (angle-polar (contents z)))\n",
    "        (else (error \"Unknown type -- ANGLE\" z))))"
   ]
  },
  {
   "cell_type": "markdown",
   "id": "7d9672c3",
   "metadata": {},
   "source": [
    "The functions would not change and could work with the two representations at the same time, if needed!"
   ]
  },
  {
   "cell_type": "code",
   "execution_count": 44,
   "id": "77222849",
   "metadata": {},
   "outputs": [],
   "source": [
    "(define (add-complex z1 z2)\n",
    "  (make-from-real-imag (+ (real-part z1) (real-part z2))\n",
    "                       (+ (imag-part z1) (imag-part z2))))"
   ]
  },
  {
   "cell_type": "markdown",
   "id": "9adc497b",
   "metadata": {},
   "source": [
    "---"
   ]
  },
  {
   "cell_type": "markdown",
   "id": "f31dc8fb",
   "metadata": {},
   "source": [
    "SCIP solutions at http://community.schemewiki.org/?SICP-Solutions"
   ]
  }
 ],
 "metadata": {
  "kernelspec": {
   "display_name": "Calysto Scheme 3",
   "language": "scheme",
   "name": "calysto_scheme"
  },
  "language_info": {
   "codemirror_mode": {
    "name": "scheme"
   },
   "mimetype": "text/x-scheme",
   "name": "scheme",
   "pygments_lexer": "scheme"
  }
 },
 "nbformat": 4,
 "nbformat_minor": 5
}
