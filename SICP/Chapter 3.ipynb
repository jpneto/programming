{
 "cells": [
  {
   "cell_type": "markdown",
   "id": "13fb7073",
   "metadata": {},
   "source": [
    "# The Structure & Interpretation of Computer Programs"
   ]
  },
  {
   "cell_type": "code",
   "execution_count": 84,
   "id": "fd1e867d",
   "metadata": {},
   "outputs": [],
   "source": [
    "(define-syntax time \n",
    "  [(time ?exp) (let ((start (current-time)))\n",
    "                 ?exp\n",
    "                 (- (current-time) start))])"
   ]
  },
  {
   "cell_type": "markdown",
   "id": "683d20c0",
   "metadata": {},
   "source": [
    "## Chapter 3, Modularity, Objects, and State"
   ]
  },
  {
   "cell_type": "markdown",
   "id": "e7c13c53",
   "metadata": {},
   "source": [
    "> Effective program synthesis also requires organizational principles that\n",
    "can guide us in formulating the overall design of a program. In particular, we need strategies to help us\n",
    "structure large systems so that they will be modular, that is, so that they can be divided ``naturally'' into\n",
    "coherent parts that can be separately developed and maintained.\n",
    "\n",
    "> One powerful design strategy, which is particularly appropriate to the construction of programs for\n",
    "modeling physical systems, is to base the structure of our programs on the structure of the system being\n",
    "modeled. For each object in the system, we construct a corresponding computational object. For each\n",
    "system action, we define a symbolic operation in our computational model. Our hope in using this strategy\n",
    "is that extending the model to accommodate new objects or new actions will require no strategic changes\n",
    "to the program, only the addition of the new symbolic analogs of those objects or actions. If we have been\n",
    "successful in our system organization, then to add a new feature or debug an old one we will have to work\n",
    "on only a localized part of the system."
   ]
  },
  {
   "cell_type": "markdown",
   "id": "bbf02c31",
   "metadata": {},
   "source": [
    "> In a system composed of many objects, the objects are rarely completely independent. Each may influence\n",
    "the states of others through interactions, which serve to couple the state variables of one object to those of\n",
    "other objects. [...] This view of a system can be a powerful framework for organizing computational models of the system. For such a model to be modular, it should be decomposed into computational objects that model the actual\n",
    "objects in the system. Each computational object must have its own local state variables describing the\n",
    "actual object's state. Since the states of objects in the system being modeled change over time, the state\n",
    "variables of the corresponding computational objects must also change"
   ]
  },
  {
   "cell_type": "markdown",
   "id": "c7d70679",
   "metadata": {},
   "source": [
    "### Local State Variables"
   ]
  },
  {
   "cell_type": "markdown",
   "id": "b61ba6a2",
   "metadata": {},
   "source": [
    "> let us model the situation of withdrawing money from a bank account. We will do this using a procedure `withdraw`,\n",
    "which takes as argument an amount to be withdrawn. If there is enough money in the account to\n",
    "accommodate the withdrawal, then `withdraw` should return the balance remaining after the withdrawal.\n",
    "Otherwise, `withdraw` should return the message Insufficient funds."
   ]
  },
  {
   "cell_type": "markdown",
   "id": "06734cc6",
   "metadata": {},
   "source": [
    "`begin` is a special form that evaluates a sequence of expressions and returns the value of the last expression.\n",
    "\n",
    "`set!` is another special form that the name (first argument) is associated with the value of the expression (the second argument)"
   ]
  },
  {
   "cell_type": "code",
   "execution_count": 1,
   "id": "b30a44c4",
   "metadata": {},
   "outputs": [
    {
     "name": "stdout",
     "output_type": "stream",
     "text": [
      "56\n",
      "2\n"
     ]
    }
   ],
   "source": [
    "(define (print msg)\n",
    "  (display msg)\n",
    "  (newline)\n",
    ")\n",
    "\n",
    "(define x 1)\n",
    "(print (begin (set! x 2) (* 3 4) 56) )\n",
    "(print x)"
   ]
  },
  {
   "cell_type": "markdown",
   "id": "4872cc86",
   "metadata": {},
   "source": [
    "So, let's implement `withdraw`:"
   ]
  },
  {
   "cell_type": "code",
   "execution_count": 2,
   "id": "2dc834f3",
   "metadata": {},
   "outputs": [],
   "source": [
    "(define balance 100)\n",
    "\n",
    "(define (withdraw amount)\n",
    "  (if (>= balance amount)\n",
    "      (begin (set! balance (- balance amount))\n",
    "             balance)\n",
    "      \"Insufficient funds\"))"
   ]
  },
  {
   "cell_type": "code",
   "execution_count": 3,
   "id": "e410ca76",
   "metadata": {},
   "outputs": [
    {
     "name": "stdout",
     "output_type": "stream",
     "text": [
      "15\n"
     ]
    }
   ],
   "source": [
    "(withdraw 25)\n",
    "(withdraw 60)\n",
    "(print balance)"
   ]
  },
  {
   "cell_type": "markdown",
   "id": "04ba4fad",
   "metadata": {},
   "source": [
    "> Although withdraw works as desired, the variable balance presents a problem. As specified above,\n",
    "balance is a name defined in the global environment and is freely accessible to be examined or modified\n",
    "by any procedure. It would be much better if we could somehow make balance internal to withdraw,\n",
    "so that withdraw would be the only procedure that could access balance directly and any other\n",
    "procedure could access balance only indirectly (through calls to withdraw). This would more\n",
    "accurately model the notion that balance is a local state variable used by withdraw to keep track of\n",
    "the state of the account.\n",
    "\n",
    "Let's make balance an internal variable,"
   ]
  },
  {
   "cell_type": "code",
   "execution_count": 4,
   "id": "f729a817",
   "metadata": {},
   "outputs": [
    {
     "data": {
      "text/plain": [
       "15"
      ]
     },
     "execution_count": 4,
     "metadata": {},
     "output_type": "execute_result"
    }
   ],
   "source": [
    "(define withdraw\n",
    "  (let ((balance 100))\n",
    "    (lambda (amount)   ; This lambda is a closure\n",
    "      (if (>= balance amount)\n",
    "          (begin (set! balance (- balance amount))\n",
    "                 balance)\n",
    "          \"Insufficient funds\"))))\n",
    "\n",
    "(withdraw 25)\n",
    "(withdraw 60)"
   ]
  },
  {
   "cell_type": "markdown",
   "id": "8b20ebdf",
   "metadata": {},
   "source": [
    "> [We] use let to establish an environment with a local variable balance, bound to\n",
    "the initial value 100. Within this local environment, we use lambda to create a procedure that takes\n",
    "amount as an argument and behaves like our previous withdraw procedure.\n",
    "\n",
    "We can also create a procedure where are define the inicial balance, and return a new withdraw procedures with that value. This is a factory of withdraw procedures."
   ]
  },
  {
   "cell_type": "code",
   "execution_count": 5,
   "id": "9739c95c",
   "metadata": {},
   "outputs": [
    {
     "data": {
      "text/plain": [
       "10"
      ]
     },
     "execution_count": 5,
     "metadata": {},
     "output_type": "execute_result"
    }
   ],
   "source": [
    "(define (make-withdraw balance)\n",
    "  (lambda (amount)\n",
    "    (if (>= balance amount)\n",
    "        (begin (set! balance (- balance amount))\n",
    "               balance)\n",
    "        \"Insufficient funds\")))\n",
    "\n",
    "(define W1 (make-withdraw 100))\n",
    "(define W2 (make-withdraw 100))\n",
    "(W1 50)\n",
    "(W2 70)\n",
    "(W2 40)\n",
    "(W1 40)"
   ]
  },
  {
   "cell_type": "markdown",
   "id": "0a5932f1",
   "metadata": {},
   "source": [
    "> We can also create objects that handle deposits as well as withdrawals, and thus we can represent simple\n",
    "bank accounts. Here is a procedure that returns a `bank-account object` with a specified initial balance:"
   ]
  },
  {
   "cell_type": "code",
   "execution_count": 6,
   "id": "5724305e",
   "metadata": {},
   "outputs": [],
   "source": [
    "(define (make-account balance)\n",
    "  (define (withdraw amount)\n",
    "    (if (>= balance amount)\n",
    "        (begin (set! balance (- balance amount))\n",
    "               balance)\n",
    "        \"Insufficient funds\"))\n",
    "  (define (deposit amount)\n",
    "    (set! balance (+ balance amount))\n",
    "    balance)\n",
    "  (define (dispatch m)\n",
    "    (cond ((eq? m 'withdraw) withdraw)\n",
    "          ((eq? m 'deposit) deposit)\n",
    "          (else (error \"Unknown request -- MAKE-ACCOUNT\" m))))\n",
    "  dispatch)"
   ]
  },
  {
   "cell_type": "code",
   "execution_count": 7,
   "id": "d4ad07df",
   "metadata": {},
   "outputs": [
    {
     "data": {
      "text/plain": [
       "30"
      ]
     },
     "execution_count": 7,
     "metadata": {},
     "output_type": "execute_result"
    }
   ],
   "source": [
    "(define acc (make-account 100))\n",
    "\n",
    "((acc 'withdraw) 50)\n",
    "((acc 'withdraw) 60)\n",
    "((acc 'deposit) 40)\n",
    "((acc 'withdraw) 60)"
   ]
  },
  {
   "cell_type": "markdown",
   "id": "6f8bff13",
   "metadata": {},
   "source": [
    "> As we have seen, the set! operation enables us to model objects that have local state. However, this\n",
    "advantage comes at a price. Our programming language can no longer be interpreted in terms of the\n",
    "substitution model of procedure application introduced in chapter 1. Moreover, no simple\n",
    "model with ``nice'' mathematical properties can be an adequate framework for dealing with objects and\n",
    "assignment in programming languages.\n",
    "\n",
    "> So long as we do not use assignments, two evaluations of the same procedure with the same arguments\n",
    "will produce the same result, so that procedures can be viewed as computing mathematical functions.\n",
    "Programming without any use of assignments, as we did throughout the first two chapters of this book, is\n",
    "accordingly known as **functional programming**."
   ]
  },
  {
   "cell_type": "markdown",
   "id": "a38bb461",
   "metadata": {},
   "source": [
    "### Sameness and change"
   ]
  },
  {
   "cell_type": "markdown",
   "id": "097ac8e6",
   "metadata": {},
   "source": [
    "> As soon as we introduce change into our computational models, many notions that were previously\n",
    "straightforward become problematical. Consider the concept of two things being *the same*.\n",
    "\n",
    "> Suppose we call `make-decrementer` twice with the same argument to create two procedures"
   ]
  },
  {
   "cell_type": "code",
   "execution_count": 8,
   "id": "d5064c29",
   "metadata": {},
   "outputs": [],
   "source": [
    "(define (make-decrementer balance)\n",
    "  (lambda (amount)\n",
    "    (- balance amount)))\n",
    "\n",
    "(define D1 (make-decrementer 25))\n",
    "(define D2 (make-decrementer 25))"
   ]
  },
  {
   "cell_type": "markdown",
   "id": "36c01402",
   "metadata": {},
   "source": [
    "> Are D1 and D2 the same? An acceptable answer is yes, because D1 and D2 have the same computational\n",
    "behavior -- each is a procedure that subtracts its input from 25. In fact, D1 could be substituted for D2 in\n",
    "any computation without changing the result. [...] Contrast this with making two calls to `make-simplified-withdraw`"
   ]
  },
  {
   "cell_type": "code",
   "execution_count": 9,
   "id": "80dfc0a5",
   "metadata": {},
   "outputs": [],
   "source": [
    "(define (make-simplified-withdraw balance)\n",
    "  (lambda (amount)\n",
    "    (set! balance (- balance amount))\n",
    "    balance))\n",
    "\n",
    "(define W1 (make-simplified-withdraw 50))\n",
    "(define W2 (make-simplified-withdraw 50))"
   ]
  },
  {
   "cell_type": "markdown",
   "id": "f72eaca9",
   "metadata": {},
   "source": [
    "> Are W1 and W2 the same? Surely not, because calls to W1 and W2 have distinct effects"
   ]
  },
  {
   "cell_type": "code",
   "execution_count": 10,
   "id": "a69f0d70",
   "metadata": {},
   "outputs": [
    {
     "name": "stdout",
     "output_type": "stream",
     "text": [
      "40\n",
      "20\n",
      "30\n"
     ]
    }
   ],
   "source": [
    "(print (W1 10))\n",
    "(print (W1 20))\n",
    "(print (W2 20))"
   ]
  },
  {
   "cell_type": "markdown",
   "id": "5cc5eb35",
   "metadata": {},
   "source": [
    "> A language that supports the concept that *equals can be substituted for equals* in an expresssion without\n",
    "changing the value of the expression is said to be **referentially transparent**. Referential transparency is\n",
    "violated when we include `set!` in our computer language. This makes it tricky to determine when we can\n",
    "simplify expressions by substituting equivalent expressions. Consequently, reasoning about programs that\n",
    "use assignment becomes drastically more difficult.\n",
    "\n",
    "> In contrast to functional programming, programming that makes extensive use of assignment is known as\n",
    "**imperative programming**. In addition to raising complications about computational models, programs\n",
    "written in imperative style are susceptible to bugs that cannot occur in functional programs."
   ]
  },
  {
   "cell_type": "markdown",
   "id": "a18483f7",
   "metadata": {},
   "source": [
    "### The Environment Model of Evaluation"
   ]
  },
  {
   "cell_type": "markdown",
   "id": "996d0c41",
   "metadata": {},
   "source": [
    "> When we introduced compound procedures in chapter 1, we used the substitution model of evaluation\n",
    "to define what is meant by applying a procedure to arguments: *To apply a compound procedure to arguments, evaluate the body of the procedure with each formal parameter replaced by the corresponding argument.*\n",
    "\n",
    "> Once we admit assignment into our programming language, such a definition is no longer adequate. [...] in the presence of assignment, a variable can no longer be considered to be merely a name for a value. Rather, a variable must somehow designate a *place* in which values can be stored. In our new model of evaluation, these places will be maintained in structures called **environments**.\n",
    "\n",
    "> An environment is a sequence of **frames**. Each frame is a table (possibly empty) of **bindings**, which\n",
    "associate variable names with their corresponding values. (A single frame may contain at most one\n",
    "binding for any variable.) Each frame also has a pointer to its **enclosing environment**, unless, for the\n",
    "purposes of discussion, the frame is considered to be *global*. The *value of a variable* with respect to an\n",
    "environment is the value given by the binding of the variable in the first frame in the environment that\n",
    "contains a binding for that variable. If no frame in the sequence specifies a binding for the variable, then\n",
    "the variable is said to be *unbound* in the environment.\n",
    "\n",
    "> The environment is crucial to the evaluation process, because it determines the context in which an\n",
    "expression should be evaluated. Indeed, one could say that expressions in a programming language do not,\n",
    "in themselves, have any meaning. Rather, an expression acquires a meaning only with respect to some\n",
    "environment in which it is evaluated. Even the interpretation of an expression as straightforward as\n",
    "`(+ 1 1)` depends on an understanding that one is operating in a context in which `+` is the symbol for\n",
    "addition. Thus, in our model of evaluation we will always speak of evaluating an expression with respect\n",
    "to some environment. To describe interactions with the interpreter, we will suppose that there is a global\n",
    "environment, consisting of a single frame (with no enclosing environment) that includes values for the\n",
    "symbols associated with the primitive procedures. For example, the idea that `+` is the symbol for addition\n",
    "is captured by saying that the symbol `+` is bound in the global environment to the primitive addition\n",
    "procedure.\n",
    "\n",
    "> defining a symbol using define creates a binding in the current environment frame\n",
    "and assigns to the symbol the indicated value.13 Finally, we specify the behavior of `set!`, the operation\n",
    "that forced us to introduce the environment model in the first place. Evaluating the expression `(set! <variable> <value>)` in some environment locates the binding of the variable in the environment\n",
    "and changes that binding to indicate the new value. That is, one finds the first frame in the environment\n",
    "that contains a binding for the variable and modifies that frame. If the variable is unbound in the\n",
    "environment, then `set!` signals an error. [...] These evaluation rules, though considerably more complex than the substitution model, are still reasonably straightforward. Moreover, the evaluation model, though abstract, provides a correct description of how the interpreter evaluates expressions"
   ]
  },
  {
   "cell_type": "markdown",
   "id": "d716ed52",
   "metadata": {},
   "source": [
    "### Modeling with Mutable Data"
   ]
  },
  {
   "cell_type": "markdown",
   "id": "004d3c74",
   "metadata": {},
   "source": [
    "> The desire to model systems composed of objects that have changing state leads us to the need to modify compound data objects, as well as to construct and select from them. In order to model compound objects with changing state, we will design data abstractions to include, in addition to selectors and constructors, operations called mutators, which modify data objects. For instance, modeling a banking system requires us to change account balances. Thus, a data structure for representing bank accounts might admit an operation `(set-balance! <account> <new-value>)` that changes the balance of the designated account to the designated new value. Data objects for which mutators are defined are known as *mutable data objects*.\n",
    "\n",
    "The operations `set-car!` and `set-cdr!` are mutators of pairs made by `cons` and can be used to mutate lists:"
   ]
  },
  {
   "cell_type": "code",
   "execution_count": 11,
   "id": "54dfac88",
   "metadata": {},
   "outputs": [
    {
     "data": {
      "text/plain": [
       "(10 2 3)"
      ]
     },
     "execution_count": 11,
     "metadata": {},
     "output_type": "execute_result"
    }
   ],
   "source": [
    "(define a '(1 2 3))\n",
    "(set-car! a 10)\n",
    "a"
   ]
  },
  {
   "cell_type": "markdown",
   "id": "1a56234a",
   "metadata": {},
   "source": [
    "The difference between appending to the end of the list via immutable and mutable operations:"
   ]
  },
  {
   "cell_type": "code",
   "execution_count": 12,
   "id": "2b8be6cd",
   "metadata": {},
   "outputs": [],
   "source": [
    "(define (append x y)\n",
    "  (if (null? x)\n",
    "      y\n",
    "      (cons (car x) (append (cdr x) y))))\n",
    "\n",
    "(define (append! x y)\n",
    "  (set-cdr! (last-pair x) y)\n",
    "  x)"
   ]
  },
  {
   "cell_type": "markdown",
   "id": "60076657",
   "metadata": {},
   "source": [
    "### Sharing and identity"
   ]
  },
  {
   "cell_type": "markdown",
   "id": "ad354327",
   "metadata": {},
   "source": [
    "> We mentioned the theoretical issues of *sameness* and *change* raised by the\n",
    "introduction of assignment. These issues arise in practice when individual pairs are shared among\n",
    "different data objects.\n",
    "\n",
    "Consider"
   ]
  },
  {
   "cell_type": "code",
   "execution_count": 13,
   "id": "b9f70a99",
   "metadata": {},
   "outputs": [],
   "source": [
    "(define x (list 'a 'b))\n",
    "(define z1 (cons x x))"
   ]
  },
  {
   "cell_type": "markdown",
   "id": "e385b649",
   "metadata": {},
   "source": [
    "> z1 is a pair whose car and cdr both point to the same pair x. This sharing of x\n",
    "by the car and cdr of z1 is a consequence of the straightforward way in which cons is implemented. In\n",
    "general, using cons to construct lists will result in an interlinked structure of pairs in which many\n",
    "individual pairs are shared by many different structures.\n",
    "\n",
    "In contrast:"
   ]
  },
  {
   "cell_type": "code",
   "execution_count": 14,
   "id": "51474ef5",
   "metadata": {},
   "outputs": [],
   "source": [
    "(define z2 (cons (list 'a 'b) (list 'a 'b)))"
   ]
  },
  {
   "cell_type": "markdown",
   "id": "cb8ad5cf",
   "metadata": {},
   "source": [
    "> When thought of as a list, z1 and z2 both represent *the same* list, `((a b) a b)`. In general, sharing\n",
    "is completely undetectable if we operate on lists using only `cons`, `car`, and `cdr`. However, if we allow\n",
    "mutators on list structure, sharing becomes significant. As an example of the difference that sharing can\n",
    "make, consider the following procedure, which modifies the `car` of the structure to which it is applied:"
   ]
  },
  {
   "cell_type": "code",
   "execution_count": 15,
   "id": "407ebf10",
   "metadata": {},
   "outputs": [],
   "source": [
    "(define (set-to-wow! x)\n",
    "  (set-car! (car x) 'wow)\n",
    "  x)"
   ]
  },
  {
   "cell_type": "code",
   "execution_count": 16,
   "id": "cffa7f10",
   "metadata": {},
   "outputs": [
    {
     "name": "stdout",
     "output_type": "stream",
     "text": [
      "((a b) a b)\n",
      "((wow b) wow b)\n",
      "((a b) a b)\n",
      "((wow b) a b)\n"
     ]
    }
   ],
   "source": [
    "(print z1)\n",
    "(set-to-wow! z1)\n",
    "(print z1)\n",
    "\n",
    "(print z2)\n",
    "(set-to-wow! z2)\n",
    "(print z2)"
   ]
  },
  {
   "cell_type": "markdown",
   "id": "83cca236",
   "metadata": {},
   "source": [
    "> One way to detect sharing in list structures is to use the predicate `eq?` as a way to test whether two symbols are equal. More generally, `(eq? x y)` tests whether x and y are the same object (that is, whether x and y are equal as pointers)."
   ]
  },
  {
   "cell_type": "code",
   "execution_count": 17,
   "id": "408e41a3",
   "metadata": {},
   "outputs": [
    {
     "name": "stdout",
     "output_type": "stream",
     "text": [
      "True\n",
      "False\n"
     ]
    }
   ],
   "source": [
    "(define x (list 'a 'b))\n",
    "\n",
    "(define z1 (cons x x))\n",
    "(define z2 (cons (list 'a 'b) (list 'a 'b)))\n",
    "\n",
    "(print (eq? (car z1) (cdr z1)))\n",
    "(print (eq? (car z2) (cdr z2)))"
   ]
  },
  {
   "cell_type": "markdown",
   "id": "2caf67d5",
   "metadata": {},
   "source": [
    "### Representing Queues"
   ]
  },
  {
   "cell_type": "markdown",
   "id": "010ceb50",
   "metadata": {},
   "source": [
    "> The mutators `set-car!` and `set-cdr!` enable us to use pairs to construct data structures that cannot be\n",
    "built with cons, car, and cdr alone. This section shows how to use pairs to represent a queue."
   ]
  },
  {
   "cell_type": "code",
   "execution_count": 18,
   "id": "d92ab7b3",
   "metadata": {},
   "outputs": [],
   "source": [
    "; auxiliary procedures\n",
    "(define (front-ptr queue) (car queue))\n",
    "(define (rear-ptr queue) (cdr queue))\n",
    "(define (set-front-ptr! queue item) (set-car! queue item))\n",
    "(define (set-rear-ptr! queue item) (set-cdr! queue item))\n",
    ";;;\n",
    "\n",
    "; constructor\n",
    "(define (make-queue) (cons '() '()))\n",
    "\n",
    "; selectors\n",
    "(define (empty-queue? queue) (null? (front-ptr queue)))\n",
    "\n",
    "(define (front-queue queue)\n",
    "  (if (empty-queue? queue)\n",
    "      (error \"FRONT called with an empty queue\" queue)\n",
    "      (car (front-ptr queue))))\n",
    "\n",
    "; mutators\n",
    "(define (insert-queue! queue item)\n",
    "  (let ((new-pair (cons item '())))\n",
    "    (cond ((empty-queue? queue)\n",
    "           (set-front-ptr! queue new-pair)\n",
    "           (set-rear-ptr! queue new-pair)\n",
    "           queue)\n",
    "          (else\n",
    "           (set-cdr! (rear-ptr queue) new-pair)\n",
    "           (set-rear-ptr! queue new-pair)\n",
    "           queue)))) \n",
    "\n",
    "(define (delete-queue! queue)\n",
    "  (cond ((empty-queue? queue)\n",
    "         (error \"DELETE! called with an empty queue\" queue))\n",
    "        (else\n",
    "         (set-front-ptr! queue (cdr (front-ptr queue)))\n",
    "         queue))) \n"
   ]
  },
  {
   "cell_type": "markdown",
   "id": "605b0548",
   "metadata": {},
   "source": [
    "### Streams"
   ]
  },
  {
   "cell_type": "markdown",
   "id": "8b04a66e",
   "metadata": {},
   "source": [
    "> We've gained a good understanding of assignment as a tool in modeling, as well as an appreciation of the\n",
    "complex problems that assignment raises. It is time to ask whether we could have gone about things in a\n",
    "different way, so as to avoid some of these problems. In this section, we explore an alternative approach to\n",
    "modeling state, based on data structures called **streams**. As we shall see, streams can mitigate some of the\n",
    "complexity of modeling state.\n",
    "\n",
    "> Can we avoid identifying time in the computer with time in the modeled world?\n",
    "Must we make the model change with time in order to model phenomena in a changing world? Think about\n",
    "the issue in terms of mathematical functions. We can describe the time-varying behavior of a quantity x as a\n",
    "function of time x(t). If we concentrate on x instant by instant, we think of it as a changing quantity. Yet if\n",
    "we concentrate on the entire time history of values, we do not emphasize change -- the function itself does\n",
    "not change"
   ]
  },
  {
   "cell_type": "markdown",
   "id": "0ed4a507",
   "metadata": {},
   "source": [
    "### Streams Are Delayed Lists"
   ]
  },
  {
   "cell_type": "markdown",
   "id": "f394f0ad",
   "metadata": {},
   "source": [
    "> sequences can serve as standard interfaces for combining program modules. We\n",
    "formulated powerful abstractions for manipulating sequences, such as map, filter, and accumulate,\n",
    "that capture a wide variety of operations in a manner that is both succinct and elegant.\n",
    "Unfortunately, if we represent sequences as lists, this elegance is bought at the price of severe inefficiency\n",
    "with respect to both the time and space required by our computations. When we represent manipulations on\n",
    "sequences as transformations of lists, our programs must construct and copy data structures (which may be\n",
    "huge) at every step of a process.\n",
    "\n",
    "> To see why this is true, let us compare two programs for computing the sum of all the prime numbers in an\n",
    "interval. The first program is written in standard iterative style"
   ]
  },
  {
   "cell_type": "code",
   "execution_count": 22,
   "id": "0439df47",
   "metadata": {},
   "outputs": [
    {
     "name": "stdout",
     "output_type": "stream",
     "text": [
      "1061\n"
     ]
    }
   ],
   "source": [
    ";;;;;;;;;;;;;;;;;;;;;;;;;;;;;;\n",
    "; operations for checking if prime\n",
    "(define (square x) \n",
    "  (* x x)) \n",
    "\n",
    "(define (divides? a b)\n",
    "  (= (remainder b a) 0))\n",
    "\n",
    "(define (find-divisor n test-divisor)\n",
    "  (cond ((> (square test-divisor) n) n)\n",
    "        ((divides? test-divisor n) test-divisor)\n",
    "        (else (find-divisor n (+ test-divisor 1)))))\n",
    "\n",
    "(define (smallest-divisor n)\n",
    "  (find-divisor n 2))\n",
    "\n",
    "(define (prime? n)\n",
    "  (= n (smallest-divisor n)))\n",
    "\n",
    "(define (prime-sum? pair)\n",
    "  (prime? (+ (car pair) (cadr pair))))\n",
    ";;;;;;;;;;;;;;;;;;;;;;;;;;;;;;\n",
    "\n",
    "(define (sum-primes a b)\n",
    "  (define (iter count accum)\n",
    "    (cond ((> count b) accum)\n",
    "          ((prime? count) (iter (+ count 1) (+ count accum)))\n",
    "          (else (iter (+ count 1) accum))))\n",
    "  (iter a 0))\n",
    "\n",
    "(print (sum-primes 1 100))"
   ]
  },
  {
   "cell_type": "markdown",
   "id": "a0abfe93",
   "metadata": {},
   "source": [
    "The second program performs the same computation using the sequence operations `accumulate` and `filter` from chapter 2:"
   ]
  },
  {
   "cell_type": "code",
   "execution_count": 34,
   "id": "4a23cce1",
   "metadata": {},
   "outputs": [
    {
     "name": "stdout",
     "output_type": "stream",
     "text": [
      "1061\n"
     ]
    }
   ],
   "source": [
    ";;;;;;;;;;;;;;;;;;;;;;;;;;;;;;\n",
    "; needed procedures from previous chapters\n",
    "(define nil '()) \n",
    "\n",
    "(define (range low high)\n",
    "  (if (> low high)\n",
    "      nil\n",
    "      (cons low (range (+ low 1) high))))\n",
    "\n",
    "(define (filter predicate sequence)\n",
    "  (cond ((null? sequence) nil)\n",
    "        ((predicate (car sequence))\n",
    "         (cons (car sequence)\n",
    "               (filter predicate (cdr sequence))))\n",
    "        (else (filter predicate (cdr sequence)))))\n",
    "\n",
    "(define (accumulate op initial sequence)\n",
    "  (if (null? sequence)\n",
    "      initial\n",
    "      (op (car sequence)\n",
    "          (accumulate op initial (cdr sequence)))))\n",
    ";;;;;;;;;;;;;;;;;;;;;;;;;;;;;;\n",
    "\n",
    "(define (sum-primes a b)\n",
    "  (accumulate +\n",
    "              0\n",
    "              (filter prime? (range a b))))\n",
    "\n",
    "(print (sum-primes 1 100))"
   ]
  },
  {
   "cell_type": "markdown",
   "id": "fb8a2e53",
   "metadata": {},
   "source": [
    "> In carrying out the computation, the first program needs to store only the sum being accumulated. In\n",
    "contrast, the filter in the second program cannot do any testing until enumerate-interval has\n",
    "constructed a complete list of the numbers in the interval. The filter generates another list, which in turn is\n",
    "passed to accumulate before being collapsed to form a sum. Such large intermediate storage is not\n",
    "needed by the first program, which we can think of as enumerating the interval incrementally, adding each\n",
    "prime to the sum as it is generated.\n",
    "\n",
    "> Streams are a clever idea that allows one to use sequence manipulations without incurring the costs of\n",
    "manipulating sequences as lists. With streams we can achieve the best of both worlds: We can formulate\n",
    "programs elegantly as sequence manipulations, while attaining the efficiency of incremental computation.\n",
    "\n",
    "> The basic idea is to arrange to construct a stream only partially, and to pass the partial construction to the\n",
    "program that consumes the stream. If the consumer attempts to access a part of the stream that has not yet\n",
    "been constructed, the stream will automatically construct just enough more of itself to produce the required\n",
    "part, thus preserving the illusion that the entire stream exists. In other words, although we will write\n",
    "programs as if we were processing complete sequences, we design our stream implementation to\n",
    "automatically and transparently interleave the construction of the stream with its use.\n",
    "On the surface, streams are just lists with different names for the procedures that manipulate them. There is\n",
    "a constructor, `cons-stream`, and two selectors, `stream-car` and `stream-cdr`, which satisfy the\n",
    "constraints\n",
    "\n",
    "  `(stream-car (cons-stream x y)) == x`\n",
    "\n",
    "  `(stream-cdr (cons-stream x y)) == y`\n",
    "\n",
    "> There is a distinguishable object, `the-empty-stream`, which cannot be the result of any `cons-stream`\n",
    "operation, and which can be identified with the predicate `stream-null?`."
   ]
  },
  {
   "cell_type": "markdown",
   "id": "d4fbf32f",
   "metadata": {},
   "source": [
    "> Our implementation of streams will be based on a special form called `delay`. Evaluating `(delay <exp>)` does not evaluate the expression <exp>, but rather returns a so-called delayed object, which we can think of as a *promise* to evaluate <exp> at some future time. As a companion to `delay`, there is a procedure called `force` that takes a delayed object as argument and performs the evaluation -- in effect, forcing the `delay` to fulfill its promise. "
   ]
  },
  {
   "cell_type": "markdown",
   "id": "626dc043",
   "metadata": {},
   "source": [
    "> `delay` is just syntatic sugar for `(lambda () <exp>)` and `force` simply calls the procedure, `(define (force delayed) (delayed))`\n",
    "\n",
    "> This implementation suffices for delay and force to work as advertised, but there is an important\n",
    "optimization that we can include. In many applications, we end up forcing the same delayed object many\n",
    "times. This can lead to serious inefficiency in recursive programs involving streams. The solution is to build delayed objects so that the first time they are forced, they store the value that is\n",
    "computed. Subsequent forcings will simply return the stored value without repeating the computation."
   ]
  },
  {
   "cell_type": "code",
   "execution_count": 85,
   "id": "8abc6449",
   "metadata": {},
   "outputs": [],
   "source": [
    "(define (memo-proc proc)\n",
    "  (let ((already-run? #f) (result #f))\n",
    "    (lambda ()\n",
    "      (if (not already-run?)\n",
    "          (begin (set! result (proc))\n",
    "                 (set! already-run? #t)\n",
    "                 result)\n",
    "          result))))\n",
    "\n",
    "(define-syntax delay   ; define a macro (prevents the early execution of <exp>\n",
    "  [(delay ?exp)\n",
    "     (memo-proc (lambda () ?exp))])\n",
    "\n",
    "(define (force delayed-object)\n",
    "  (delayed-object))"
   ]
  },
  {
   "cell_type": "code",
   "execution_count": 91,
   "id": "70a0b737",
   "metadata": {},
   "outputs": [],
   "source": [
    "(define (nil? x) (eq? x nil))\n",
    "\n",
    "(define-syntax cons-stream\n",
    "  [(cons-stream ?a ?b)\n",
    "     (cons ?a (delay ?b))])\n",
    "\n",
    "(define (stream-car stream) (car stream))\n",
    "(define (stream-cdr stream) (force (cdr stream)))\n",
    "\n",
    "(define empty-stream '())\n",
    "(define (stream-null? stream) (nil? stream))"
   ]
  },
  {
   "cell_type": "markdown",
   "id": "bdce9cf6",
   "metadata": {},
   "source": [
    "Some procedures to manipulate streams:"
   ]
  },
  {
   "cell_type": "code",
   "execution_count": 122,
   "id": "c85bc173",
   "metadata": {},
   "outputs": [
    {
     "name": "stdout",
     "output_type": "stream",
     "text": [
      " 1 2 3 4 5\n"
     ]
    }
   ],
   "source": [
    "; returns the nth element of the stream\n",
    "(define (stream-ref s n)\n",
    "  (if (= n 0)\n",
    "      (stream-car s)\n",
    "      (stream-ref (stream-cdr s) (- n 1))))\n",
    "\n",
    "(define (stream-range low high)\n",
    "  (if (> low high)\n",
    "      '()\n",
    "      (cons-stream\n",
    "       low\n",
    "       (stream-range (+ low 1) high))))\n",
    "\n",
    "(define (stream-filter pred stream)\n",
    "  (cond ((stream-null? stream) the-empty-stream)\n",
    "        ((pred (stream-car stream))\n",
    "         (cons-stream (stream-car stream)\n",
    "                      (stream-filter pred\n",
    "                                     (stream-cdr stream))))\n",
    "        (else (stream-filter pred (stream-cdr stream)))))\n",
    "\n",
    "(define (stream-map proc s)\n",
    "  (if (stream-null? s)\n",
    "      empty-stream\n",
    "      (cons-stream (proc (stream-car s))\n",
    "                   (stream-map proc (stream-cdr s)))))\n",
    "\n",
    "; applies proc on every item in the stream\n",
    "(define (stream-for-each proc s)\n",
    "  (if (stream-null? s)\n",
    "      (newline)\n",
    "      (begin (proc (stream-car s))             \n",
    "             (stream-for-each proc (stream-cdr s)))))\n",
    "\n",
    "; returns a stream with the first n elements\n",
    "(define (stream-take n s)\n",
    "  (cond ((stream-null? s) empty-stream)\n",
    "        ((= n 0) empty-stream)\n",
    "        (else (cons-stream (stream-car s) \n",
    "                           (stream-take (- n 1) (stream-cdr s))))))\n",
    "\n",
    "; prints stream\n",
    "(define (display-stream s)\n",
    "  (define (display-line x)(display \" \")(display x))\n",
    "  (stream-for-each display-line s))\n",
    "\n",
    "(display-stream (stream-take 5 (stream-range 1 10)))"
   ]
  },
  {
   "cell_type": "markdown",
   "id": "5fece35b",
   "metadata": {},
   "source": [
    "The stream operations can be combined,"
   ]
  },
  {
   "cell_type": "code",
   "execution_count": 124,
   "id": "a2aa7b24",
   "metadata": {},
   "outputs": [
    {
     "name": "stdout",
     "output_type": "stream",
     "text": [
      " 4 16 36 64 100 144 196 256 324 400\n"
     ]
    }
   ],
   "source": [
    "(display-stream\n",
    "  (stream-filter\n",
    "    (lambda (x) (= (remainder x 2) 0)) ; filter only even numbers\n",
    "    (stream-map\n",
    "      square\n",
    "      (stream-range 1 20))))"
   ]
  },
  {
   "cell_type": "markdown",
   "id": "be19de8f",
   "metadata": {},
   "source": [
    "The book asks to define a map to deal with more than one stream:"
   ]
  },
  {
   "cell_type": "code",
   "execution_count": 140,
   "id": "6d955c80",
   "metadata": {},
   "outputs": [],
   "source": [
    "(define (stream-map proc . streams) ; all args after the dot are inside list streams\n",
    "  (if (null? (car streams))\n",
    "      empty-stream\n",
    "      (cons-stream\n",
    "         (apply proc (map stream-car streams)) ; apply calls a function with given args\n",
    "         (apply stream-map                     ; eg: (apply + (list 1 2 3)) == 6\n",
    "               (cons proc (map stream-cdr streams))))))"
   ]
  },
  {
   "cell_type": "markdown",
   "id": "1c32536e",
   "metadata": {},
   "source": [
    "### Infinite Streams"
   ]
  },
  {
   "cell_type": "markdown",
   "id": "e7197eb1",
   "metadata": {},
   "source": [
    "> consider the following\n",
    "definition of the stream of positive integers:"
   ]
  },
  {
   "cell_type": "code",
   "execution_count": 136,
   "id": "d9aaf88b",
   "metadata": {},
   "outputs": [
    {
     "name": "stdout",
     "output_type": "stream",
     "text": [
      " 1 2 3 4 5 6 7 8 9 10 11 12 13 14 15\n"
     ]
    }
   ],
   "source": [
    "(define (integers-starting-from n)\n",
    "  (cons-stream n (integers-starting-from (+ n 1))))\n",
    "\n",
    "(define integers (integers-starting-from 1))\n",
    "\n",
    "(display-stream (stream-take 15 integers))"
   ]
  },
  {
   "cell_type": "markdown",
   "id": "ed5a7538",
   "metadata": {},
   "source": [
    "Other examples of infinite streams:"
   ]
  },
  {
   "cell_type": "code",
   "execution_count": 143,
   "id": "2bbb4006",
   "metadata": {},
   "outputs": [
    {
     "name": "stdout",
     "output_type": "stream",
     "text": [
      " 1 2 3 4 5 6 8 9 10 11 12 13 15 16 17\n",
      " 1 1 2 3 5 8 13 21 34 55 89 144 233 377 610\n",
      " 2 3 5 7 11 13 17 19 23 29 31 37 41 43 47\n"
     ]
    }
   ],
   "source": [
    "; stream with all integers not divisible by 7\n",
    "(define (divisible? x y) (= (remainder x y) 0))\n",
    "\n",
    "(define no-sevens\n",
    "  (stream-filter (lambda (x) (not (divisible? x 7)))\n",
    "                 integers))\n",
    "\n",
    "(display-stream (stream-take 15 no-sevens))\n",
    "\n",
    "; stream with the fibonacci sequence\n",
    "(define (fibgen a b)\n",
    "  (cons-stream a (fibgen b (+ a b))))\n",
    "\n",
    "(define fibs (fibgen 1 1))\n",
    "\n",
    "(display-stream (stream-take 15 fibs))\n",
    "\n",
    "; stream of primes\n",
    "(define (sieve stream)\n",
    "  (cons-stream\n",
    "   (stream-car stream)\n",
    "   (sieve (stream-filter\n",
    "           (lambda (x)\n",
    "             (not (divisible? x (stream-car stream))))\n",
    "           (stream-cdr stream)))))\n",
    "\n",
    "(define primes (sieve (integers-starting-from 2)))\n",
    "\n",
    "(display-stream (stream-take 15 primes))"
   ]
  },
  {
   "cell_type": "markdown",
   "id": "5d04aea9",
   "metadata": {},
   "source": [
    "### Defining streams implicitly"
   ]
  },
  {
   "cell_type": "markdown",
   "id": "982bb304",
   "metadata": {},
   "source": [
    "> The integers and fibs streams above were defined by specifying ``generating'' procedures that\n",
    "explicitly compute the stream elements one by one. An alternative way to specify streams is to take\n",
    "advantage of delayed evaluation to define streams implicitly. For example, the following expression defines\n",
    "the stream `ones` to be an infinite stream of ones:"
   ]
  },
  {
   "cell_type": "code",
   "execution_count": 144,
   "id": "a2f9f50b",
   "metadata": {},
   "outputs": [
    {
     "name": "stdout",
     "output_type": "stream",
     "text": [
      " 1 1 1 1 1 1 1 1 1 1 1 1 1 1 1\n"
     ]
    }
   ],
   "source": [
    "(define ones (cons-stream 1 ones))\n",
    "\n",
    "(display-stream (stream-take 15 ones))"
   ]
  },
  {
   "cell_type": "markdown",
   "id": "5f707eae",
   "metadata": {},
   "source": [
    "> We can do more interesting things by manipulating streams with operations such as add-streams, which\n",
    "produces the elementwise sum of two given streams"
   ]
  },
  {
   "cell_type": "code",
   "execution_count": 149,
   "id": "e0b0b0d7",
   "metadata": {},
   "outputs": [
    {
     "name": "stdout",
     "output_type": "stream",
     "text": [
      " 1 3 4 6 8 11 15 21 30 44 66 101 157 247 392\n",
      " 1 2 4 8 16 32 64 128 256 512 1024 2048 4096 8192 16384\n"
     ]
    }
   ],
   "source": [
    "(define (add-streams s1 s2)\n",
    "  (stream-map + s1 s2))\n",
    "\n",
    "(display-stream (stream-take 15 (add-streams integers fibs)))\n",
    "\n",
    "(define (scale-stream stream factor)\n",
    "  (stream-map (lambda (x) (* x factor)) stream))\n",
    "\n",
    "(define double (cons-stream 1 (scale-stream double 2)))\n",
    "\n",
    "(display-stream (stream-take 15 double))"
   ]
  },
  {
   "cell_type": "markdown",
   "id": "b60cf1c0",
   "metadata": {},
   "source": [
    "Defining other streams implicitly:"
   ]
  },
  {
   "cell_type": "code",
   "execution_count": 153,
   "id": "effbcd1a",
   "metadata": {},
   "outputs": [
    {
     "name": "stdout",
     "output_type": "stream",
     "text": [
      " 1 2 6 24 120 720 5040 40320 362880 3628800\n",
      " 1 3 6 10 15 21 28 36 45 55\n"
     ]
    }
   ],
   "source": [
    "(define integers (cons-stream 1 (add-streams ones integers)))\n",
    "\n",
    "(define fibs\n",
    "  (cons-stream 0\n",
    "               (cons-stream 1\n",
    "                            (add-streams (stream-cdr fibs)\n",
    "                                         fibs))))\n",
    "\n",
    "(define primes\n",
    "  (cons-stream\n",
    "   2\n",
    "   (stream-filter prime? (integers-starting-from 3))))\n",
    "\n",
    "(define (prime? n)\n",
    "  (define (iter ps)\n",
    "    (cond ((> (square (stream-car ps)) n) true)\n",
    "          ((divisible? n (stream-car ps)) false)\n",
    "          (else (iter (stream-cdr ps)))))\n",
    "  (iter primes))\n",
    "\n",
    "(define (mul-streams s1 s2)\n",
    "  (stream-map * s1 s2))\n",
    "\n",
    "(define factorials⌈\n",
    "  (cons-stream 1 (mul-streams factorials (stream-cdr integers))))\n",
    "\n",
    "(display-stream (stream-take 10 factorials))\n",
    "\n",
    "(define (partial-sum s)\n",
    "  (cons-stream (stream-car s)\n",
    "               (add-streams (stream-cdr s)\n",
    "                            (partial-sum s))))\n",
    "\n",
    "(display-stream (stream-take 10 (partial-sum integers))) ; triangular numbers"
   ]
  },
  {
   "cell_type": "markdown",
   "id": "c1d6e197",
   "metadata": {},
   "source": [
    "---"
   ]
  },
  {
   "cell_type": "markdown",
   "id": "2e93829c",
   "metadata": {},
   "source": [
    "SCIP solutions at http://community.schemewiki.org/?SICP-Solutions"
   ]
  }
 ],
 "metadata": {
  "kernelspec": {
   "display_name": "Calysto Scheme 3",
   "language": "scheme",
   "name": "calysto_scheme"
  },
  "language_info": {
   "codemirror_mode": {
    "name": "scheme"
   },
   "mimetype": "text/x-scheme",
   "name": "scheme",
   "pygments_lexer": "scheme"
  }
 },
 "nbformat": 4,
 "nbformat_minor": 5
}
