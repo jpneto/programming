{
 "cells": [
  {
   "cell_type": "markdown",
   "id": "8e855046",
   "metadata": {},
   "source": [
    "# The Structure & Interpretation of Computer Programs"
   ]
  },
  {
   "cell_type": "markdown",
   "id": "fb0a7b53",
   "metadata": {},
   "source": [
    "## Chapter 1"
   ]
  },
  {
   "cell_type": "markdown",
   "id": "1a65a59a",
   "metadata": {},
   "source": [
    "> We are about to study the idea of a computational process. Computational processes are abstract beings\n",
    "that inhabit computers. As they evolve, processes manipulate other abstract things called data. The\n",
    "evolution of a process is directed by a pattern of rules called a program\n",
    "\n",
    "> If Lisp is not a mainstream language, why are we using it as the framework for our discussion of\n",
    "programming? Because the language possesses unique features that make it an excellent medium for\n",
    "studying important programming constructs and data structures and for relating them to the linguistic\n",
    "features that support them. The most significant of these features is the fact that Lisp descriptions of\n",
    "processes, called procedures, can themselves be represented and manipulated as Lisp data."
   ]
  },
  {
   "cell_type": "markdown",
   "id": "e8b335f2",
   "metadata": {},
   "source": [
    "> A critical aspect of a programming language is the means it provides for using names to refer to\n",
    "computational objects. We say that the name identifies a variable whose value is the object [...] It should be clear that the possibility of associating values with symbols and later retrieving them means\n",
    "that the interpreter must maintain some sort of memory that keeps track of the name-object pairs. This\n",
    "memory is called the environment (more precisely the global environment, since we will see later that a\n",
    "computation may involve a number of different environments)\n"
   ]
  },
  {
   "cell_type": "code",
   "execution_count": 4,
   "id": "9f7fb520",
   "metadata": {},
   "outputs": [
    {
     "data": {
      "text/plain": [
       "6.28318"
      ]
     },
     "execution_count": 4,
     "metadata": {},
     "output_type": "execute_result"
    }
   ],
   "source": [
    "(define π 3.14159)  ; write \\pi+TAB to make π\n",
    "(define size 2)\n",
    "\n",
    "(* π size)"
   ]
  },
  {
   "cell_type": "markdown",
   "id": "8a29da43",
   "metadata": {},
   "source": [
    "### Evaluating Combinations"
   ]
  },
  {
   "cell_type": "markdown",
   "id": "1b453679",
   "metadata": {},
   "source": [
    "**Combinations** are lists of expressions within parantheses in order to denote procedure application. The leftmost element is the **operator** (prefix notation is used) and the remaining elements are the **operands**.\n",
    "\n",
    "To evaluate a combination we need to (a) evaluate the operands (which can be themselves combinations) and apply the operator to the values from the previous computed operands. This is a strict evaluation, SICP calls it *applicative-order evaluation* (opposed to lazy evaluation, or *normal-order evaluation* to be discussed on chapters 3 and 4).\n",
    "\n",
    "This rule does not apply to `define`, so `(define size 2)` is not a combination. These exceptions are called **special forms**."
   ]
  },
  {
   "cell_type": "markdown",
   "id": "144f544a",
   "metadata": {},
   "source": [
    "`define` can be used to define procedures"
   ]
  },
  {
   "cell_type": "code",
   "execution_count": 12,
   "id": "c8a6f0a6",
   "metadata": {},
   "outputs": [
    {
     "name": "stdout",
     "output_type": "stream",
     "text": [
      "25\n",
      "625"
     ]
    }
   ],
   "source": [
    "(define (square x) (* x x)) ; (define (<name> <formal parameters>) <body>)\n",
    "\n",
    "(display (square 5))\n",
    "(newline)\n",
    "(display (square (square 5)))"
   ]
  },
  {
   "cell_type": "markdown",
   "id": "74b1af21",
   "metadata": {},
   "source": [
    "### Conditional Expressions and Predicates"
   ]
  },
  {
   "cell_type": "markdown",
   "id": "1ab48191",
   "metadata": {},
   "source": [
    "Lisp allows for conditional expressions:"
   ]
  },
  {
   "cell_type": "code",
   "execution_count": 16,
   "id": "f7ff7319",
   "metadata": {},
   "outputs": [
    {
     "data": {
      "text/plain": [
       "5"
      ]
     },
     "execution_count": 16,
     "metadata": {},
     "output_type": "execute_result"
    }
   ],
   "source": [
    "(define (abs x)\n",
    "  (cond ((> x 0) x)    ; The first expression in each pair is a predicate\n",
    "        ((= x 0) 0)    \n",
    "        ((< x 0) (- x))))\n",
    "\n",
    "; or\n",
    "\n",
    "(define (abs x)\n",
    "  (if (< x 0) (- x) x))\n",
    "\n",
    "(abs -5)"
   ]
  },
  {
   "cell_type": "markdown",
   "id": "bb57f4d4",
   "metadata": {},
   "source": [
    "The word predicate is used for procedures that return true or false, as well as for expressions that evaluate\n",
    "to true or false.\n",
    "\n",
    "We can combine predicates with `and`, `or` , `not`. The `and` and `or` are special forms since it is not guaranteed that all operands will be evaluated."
   ]
  },
  {
   "cell_type": "code",
   "execution_count": 18,
   "id": "23fbd05b",
   "metadata": {},
   "outputs": [
    {
     "data": {
      "text/plain": [
       "#t"
      ]
     },
     "execution_count": 18,
     "metadata": {},
     "output_type": "execute_result"
    }
   ],
   "source": [
    "(define (>= x y)\n",
    "  (or (> x y) (= x y)))\n",
    "\n",
    "(>= 4 2)   ; #t is True, #f is False"
   ]
  },
  {
   "cell_type": "markdown",
   "id": "c409b498",
   "metadata": {},
   "source": [
    "### Example: Square Roots by Newton's Method"
   ]
  },
  {
   "cell_type": "markdown",
   "id": "d30ec34e",
   "metadata": {},
   "source": [
    "> Procedures, as introduced above, are much like ordinary mathematical functions. They specify a value that\n",
    "is determined by one or more parameters. But there is an important difference between mathematical\n",
    "functions and computer procedures. Procedures must be effective.\n",
    "\n",
    "> The contrast between function and procedure is a reflection of the general distinction between describing\n",
    "properties of things and describing how to do things, or, as it is sometimes referred to, the distinction\n",
    "between declarative knowledge and imperative knowledge. In mathematics we are usually concerned with\n",
    "declarative (what is) descriptions, whereas in computer science we are usually concerned with imperative\n",
    "(how to) descriptions."
   ]
  },
  {
   "cell_type": "markdown",
   "id": "88664a04",
   "metadata": {},
   "source": [
    "Newton's method can be described as:"
   ]
  },
  {
   "cell_type": "code",
   "execution_count": 23,
   "id": "18390073",
   "metadata": {},
   "outputs": [
    {
     "data": {
      "text/plain": [
       "1.4142156862745097"
      ]
     },
     "execution_count": 23,
     "metadata": {},
     "output_type": "execute_result"
    }
   ],
   "source": [
    "(define (average x y)\n",
    "  (/ (+ x y) 2))\n",
    "\n",
    "(define (good-enough? guess x)\n",
    "  (< (abs (- (square guess) x)) 0.001))\n",
    "\n",
    "(define (improve guess x)\n",
    "  (average guess (/ x guess)))\n",
    "\n",
    "(define (sqrt-iter guess x)\n",
    "  (if (good-enough? guess x)\n",
    "     guess\n",
    "     (sqrt-iter (improve guess x) x)))\n",
    "\n",
    "(define (sqrt x)\n",
    "  (sqrt-iter 1.0 x))\n",
    "\n",
    "(sqrt 2)"
   ]
  },
  {
   "cell_type": "markdown",
   "id": "f2858fca",
   "metadata": {},
   "source": [
    "In this example we could internalize all auxiliary procedures into the main `sqrt`:"
   ]
  },
  {
   "cell_type": "code",
   "execution_count": null,
   "id": "1634db85",
   "metadata": {},
   "outputs": [],
   "source": [
    "(define (sqrt x)\n",
    "  ; x does not need to be a parameter below given its lexical scoping is bound to sqrt\n",
    "  (define (good-enough? guess)\n",
    "    (< (abs (- (square guess) x)) 0.001))\n",
    "  (define (improve guess)\n",
    "    (average guess (/ x guess)))\n",
    "  (define (sqrt-iter guess)\n",
    "    (if (good-enough? guess)\n",
    "        guess\n",
    "        (sqrt-iter (improve guess))))\n",
    "  (sqrt-iter 1.0))"
   ]
  },
  {
   "cell_type": "markdown",
   "id": "6231ecc3",
   "metadata": {},
   "source": [
    "### Linear Recursion and Iteration"
   ]
  },
  {
   "cell_type": "code",
   "execution_count": 7,
   "id": "d1ea79b4",
   "metadata": {},
   "outputs": [
    {
     "data": {
      "text/plain": [
       "2432902008176640000"
      ]
     },
     "execution_count": 7,
     "metadata": {},
     "output_type": "execute_result"
    }
   ],
   "source": [
    "; Recursive solution\n",
    "(define (factorial n)\n",
    "  (if (= n 0)\n",
    "      1\n",
    "      (* n (factorial (- n 1)))))\n",
    "\n",
    "(factorial 20)"
   ]
  },
  {
   "cell_type": "markdown",
   "id": "5e30c9ec",
   "metadata": {},
   "source": [
    "The iterative solution uses extra parameters to represent state of needed variables:"
   ]
  },
  {
   "cell_type": "code",
   "execution_count": 8,
   "id": "8f98f9ed",
   "metadata": {},
   "outputs": [
    {
     "data": {
      "text/plain": [
       "2432902008176640000"
      ]
     },
     "execution_count": 8,
     "metadata": {},
     "output_type": "execute_result"
    }
   ],
   "source": [
    "; Iterative solution\n",
    "(define (factorial n)\n",
    "  (define (iter product counter)\n",
    "    (if (> counter n)\n",
    "        product\n",
    "        (iter (* counter product)\n",
    "              (+ counter 1))))\n",
    "  (iter 1 1))    \n",
    "\n",
    "(factorial 20)"
   ]
  },
  {
   "cell_type": "markdown",
   "id": "ee26907e",
   "metadata": {},
   "source": [
    "> The substitution model reveals a shape of expansion followed by contraction, [...] The expansion occurs as the process builds up a chain of deferred operations (in this case, a chain of multiplications). The contraction occurs as the operations are actually performed. This type of process, characterized by a chain of *deferred operations*, is called a *recursive process*.\n",
    "\n",
    "> By contrast, the second process does not grow and shrink. At each step, all we need to keep track of, for\n",
    "any n, are the current values of the variables product, counter, and max-count. We call this an\n",
    "*iterative process*. In general, an iterative process is one whose state can be summarized by a fixed number\n",
    "of *state variables*, together with a fixed rule that describes how the state variables should be updated as the\n",
    "process moves from state to state and an (optional) end test that specifies conditions under which the\n",
    "process should terminate. In computing n!, the number of steps required grows linearly with n. Such a\n",
    "process is called a *linear iterative process*.\n",
    "\n",
    "> The contrast between the two processes can be seen in another way. In the iterative case, the program\n",
    "variables provide a complete description of the state of the process at any point. If we stopped the\n",
    "computation between steps, all we would need to do to resume the computation is to supply the interpreter\n",
    "with the values of the three program variables. Not so with the recursive process. In this case there is some\n",
    "additional ``hidden'' information, maintained by the interpreter and not contained in the program variables,\n",
    "which indicates ``where the process is'' in negotiating the chain of deferred operations. The longer the\n",
    "chain, the more information must be maintained.\n",
    "\n",
    "> In contrasting iteration and recursion, we must be careful not to confuse the notion of a recursive process\n",
    "with the notion of a recursive *procedure*. When we describe a procedure as recursive, we are referring to\n",
    "the syntactic fact that the procedure definition refers (either directly or indirectly) to the procedure itself.\n",
    "But when we describe a process as following a pattern that is, say, linearly recursive, we are speaking\n",
    "about how the process evolves, not about the syntax of how a procedure is written. It may seem disturbing\n",
    "that we refer to a recursive procedure such as `fact-iter` as generating an iterative process. However,\n",
    "the process really is iterative: Its state is captured completely by its three state variables, and an interpreter\n",
    "need keep track of only three variables in order to execute the process.\n",
    "\n",
    "> One reason that the distinction between process and procedure may be confusing is that most\n",
    "implementations of common languages (including Ada, Pascal, and C) are designed in such a way that the\n",
    "interpretation of any recursive procedure consumes an amount of memory that grows with the number of\n",
    "procedure calls, even when the process described is, in principle, iterative. As a consequence, these\n",
    "languages can describe iterative processes only by resorting to special-purpose ``looping constructs'' such\n",
    "as do, repeat, until, for, and while. The implementation of Scheme [...] does not share this defect. It will execute an iterative process in constant space, even if the iterative process is described by a recursive procedure. An implementation with this property is called *tail-recursive*. With a tail-recursive implementation, iteration can be expressed using the ordinary procedure call mechanism, so that special iteration constructs are useful only as syntactic sugar"
   ]
  },
  {
   "cell_type": "markdown",
   "id": "06013aaa",
   "metadata": {},
   "source": [
    "### Tree Recursion"
   ]
  },
  {
   "cell_type": "code",
   "execution_count": 15,
   "id": "a6f1049b",
   "metadata": {},
   "outputs": [],
   "source": [
    "(define (fib n)\n",
    "  (cond ((= n 0) 0)\n",
    "        ((= n 1) 1)\n",
    "        (else (+ (fib (- n 1))\n",
    "                 (fib (- n 2))))))"
   ]
  },
  {
   "cell_type": "markdown",
   "id": "8c751ed3",
   "metadata": {},
   "source": [
    "> This procedure is instructive as a prototypical tree recursion, but it is a terrible way to compute Fibonacci\n",
    "numbers because it does so much redundant computation"
   ]
  },
  {
   "cell_type": "code",
   "execution_count": 60,
   "id": "8daad4cf",
   "metadata": {},
   "outputs": [
    {
     "data": {
      "text/plain": [
       "354224848179261915075"
      ]
     },
     "execution_count": 60,
     "metadata": {},
     "output_type": "execute_result"
    }
   ],
   "source": [
    "; Iterative solution\n",
    "(define (fib n)\n",
    "  (define (fib-iter a b count)\n",
    "    (if (= count 0)\n",
    "        b\n",
    "        (fib-iter (+ a b) a (- count 1))))\n",
    "  (fib-iter 1 0 n))\n",
    "\n",
    "(fib 100)"
   ]
  },
  {
   "cell_type": "markdown",
   "id": "e336bb93",
   "metadata": {},
   "source": [
    "> One should not conclude from this that tree-recursive processes are useless. When we consider processes\n",
    "that operate on hierarchically structured data rather than numbers, we will find that tree recursion is a\n",
    "natural and powerful tool. But even in numerical operations, tree-recursive processes can be useful in\n",
    "helping us to understand and design programs. For instance, although the first fib procedure is much less\n",
    "efficient than the second one, it is more straightforward, being little more than a translation into Lisp of the\n",
    "definition of the Fibonacci sequence. To formulate the iterative algorithm required noticing that the\n",
    "computation could be recast as an iteration with three state variables."
   ]
  },
  {
   "cell_type": "code",
   "execution_count": 23,
   "id": "7986d5b0",
   "metadata": {},
   "outputs": [
    {
     "data": {
      "text/plain": [
       "2"
      ]
     },
     "execution_count": 23,
     "metadata": {},
     "output_type": "execute_result"
    }
   ],
   "source": [
    "; This can be made with lists, but we're still in chapter 1\n",
    "(define (count-change amount)\n",
    "  (cc amount 5))\n",
    "\n",
    "(define (cc amount kinds-of-coins)\n",
    "  (cond ((= amount 0) 1)\n",
    "        ((or (< amount 0) (= kinds-of-coins 0)) 0)\n",
    "        (else (+ (cc amount\n",
    "                     (- kinds-of-coins 1))\n",
    "                 (cc (- amount\n",
    "                        (first-denomination kinds-of-coins))\n",
    "                     kinds-of-coins)))))\n",
    "\n",
    "(define (first-denomination kinds-of-coins)\n",
    "  (cond ((= kinds-of-coins 1) 1)\n",
    "        ((= kinds-of-coins 2) 5)\n",
    "        ((= kinds-of-coins 3) 10)\n",
    "        ((= kinds-of-coins 4) 25)\n",
    "        ((= kinds-of-coins 5) 50)))\n",
    "\n",
    "(count-change 6) ; 6*1 or 5+1"
   ]
  },
  {
   "cell_type": "markdown",
   "id": "48238a0c",
   "metadata": {},
   "source": [
    "Computing Pascal triangle values:"
   ]
  },
  {
   "cell_type": "code",
   "execution_count": 24,
   "id": "c4be739b",
   "metadata": {},
   "outputs": [
    {
     "data": {
      "text/plain": [
       "6"
      ]
     },
     "execution_count": 24,
     "metadata": {},
     "output_type": "execute_result"
    }
   ],
   "source": [
    "(define (pascal r c) \n",
    "  (if (or (= c 1) (= c r)) \n",
    "     1 \n",
    "    (+ (pascal (- r 1) (- c 1)) (pascal (- r 1) c)))) \n",
    "\n",
    "(pascal 5 3) ; row 5 is 1 4 6 4 1"
   ]
  },
  {
   "cell_type": "markdown",
   "id": "ddb5e567",
   "metadata": {},
   "source": [
    "### Example: Testing for Primality"
   ]
  },
  {
   "cell_type": "markdown",
   "id": "e053dd7d",
   "metadata": {},
   "source": [
    "Deterministic $\\mathcal{O}(\\sqrt{n})$ algorithm"
   ]
  },
  {
   "cell_type": "code",
   "execution_count": 27,
   "id": "da1046c0",
   "metadata": {},
   "outputs": [
    {
     "data": {
      "text/plain": [
       "#t"
      ]
     },
     "execution_count": 27,
     "metadata": {},
     "output_type": "execute_result"
    }
   ],
   "source": [
    "(define (square x) \n",
    "  (* x x)) \n",
    "\n",
    "(define (divides? a b)\n",
    "  (= (remainder b a) 0))\n",
    "\n",
    "(define (find-divisor n test-divisor)\n",
    "  (cond ((> (square test-divisor) n) n)\n",
    "        ((divides? test-divisor n) test-divisor)\n",
    "        (else (find-divisor n (+ test-divisor 1)))))\n",
    "\n",
    "(define (smallest-divisor n)\n",
    "  (find-divisor n 2))\n",
    "\n",
    "(define (prime? n)\n",
    "  (= n (smallest-divisor n)))\n",
    "\n",
    "(prime? 71)"
   ]
  },
  {
   "cell_type": "markdown",
   "id": "83c53511",
   "metadata": {},
   "source": [
    "Probabilistic $\\mathcal{O}(\\log n)$ algorithm using Fermat's little theorem."
   ]
  },
  {
   "cell_type": "code",
   "execution_count": 30,
   "id": "a4c6ab1d",
   "metadata": {},
   "outputs": [
    {
     "data": {
      "text/plain": [
       "4"
      ]
     },
     "execution_count": 30,
     "metadata": {},
     "output_type": "execute_result"
    }
   ],
   "source": [
    "; computes the exponential of a number modulo another number\n",
    "(define (expmod base exponent m)\n",
    "  (cond ((= exponent 0) 1)\n",
    "        ((even? exponent)\n",
    "         (remainder (square (expmod base (/ exponent 2) m))\n",
    "                    m))\n",
    "        (else\n",
    "         (remainder (* base (expmod base (- exponent 1) m))\n",
    "                    m))))    \n",
    "\n",
    "(expmod 2 10 5) ; 2^10 mod 5"
   ]
  },
  {
   "cell_type": "markdown",
   "id": "f4e13d26",
   "metadata": {},
   "source": [
    "The Fermat test is performed by choosing at random a number a between 1 and n - 1 inclusive and checking whether the remainder modulo n of the nth power of a is equal to a."
   ]
  },
  {
   "cell_type": "code",
   "execution_count": 35,
   "id": "afc621a6",
   "metadata": {},
   "outputs": [
    {
     "data": {
      "text/plain": [
       "#t"
      ]
     },
     "execution_count": 35,
     "metadata": {},
     "output_type": "execute_result"
    }
   ],
   "source": [
    "(define (fermat-test n)\n",
    "  (define (try-it a)\n",
    "    (= (expmod a n n) a))\n",
    "  (try-it (+ 1 (random (- n 1)))))\n",
    "\n",
    "(define (fast-prime? n times)\n",
    "  (cond ((= times 0) #t)\n",
    "        ((fermat-test n) (fast-prime? n (- times 1)))\n",
    "        (else #f)))\n",
    "\n",
    "(fast-prime? 71 10)"
   ]
  },
  {
   "cell_type": "code",
   "execution_count": 50,
   "id": "7cc7556f",
   "metadata": {},
   "outputs": [
    {
     "name": "stdout",
     "output_type": "stream",
     "text": [
      "\n",
      "723113 *** is prime *** 132.63988494873047 ms"
     ]
    }
   ],
   "source": [
    "; checking how long the computation takes\n",
    "\n",
    "(define (timed-prime-test n)\n",
    "  (newline)\n",
    "  (display n)\n",
    "  (start-prime-test n (current-time)))\n",
    "\n",
    "(define (start-prime-test n start-time)\n",
    "  (if (fast-prime? n 10) ; using 10 checks\n",
    "      (report-prime (- (current-time) start-time))))\n",
    "\n",
    "(define (report-prime elapsed-time)\n",
    "  (display \" *** is prime *** \")\n",
    "  (display (* elapsed-time 1000))\n",
    "  (display \" ms\"))\n",
    "\n",
    "(timed-prime-test 723113)"
   ]
  },
  {
   "cell_type": "markdown",
   "id": "e3bcdf4f",
   "metadata": {},
   "source": [
    "## Formulating Abstractions with Higher-Order Procedures"
   ]
  },
  {
   "cell_type": "markdown",
   "id": "87a39dc3",
   "metadata": {},
   "source": [
    "Procedures that manipulate procedures are called *higher-order procedures*.\n",
    "\n",
    "Consider a procedure that sums numbers from a to b, but before we must apply some transformation to those numbers. If the language has the ability to pass that transformation to the procedure, we can create just one procedure that captures this task."
   ]
  },
  {
   "cell_type": "code",
   "execution_count": 63,
   "id": "03ce2f10",
   "metadata": {},
   "outputs": [
    {
     "name": "stdout",
     "output_type": "stream",
     "text": [
      "14\n",
      "143"
     ]
    }
   ],
   "source": [
    "(define (sum-map f a b)\n",
    "  (define (sum-map-iter f a b sum)\n",
    "    (cond ((> a b) sum)\n",
    "          (else (sum-map-iter f (+ a 1) b (+ sum (f a))))))\n",
    "  (sum-map-iter f a b 0))\n",
    "\n",
    "(display (sum-map square 1 3))\n",
    "(newline)\n",
    "(display (sum-map fib 1 10))"
   ]
  },
  {
   "cell_type": "markdown",
   "id": "c280858f",
   "metadata": {},
   "source": [
    "We can still generalize more by defining the next step (instead of being just i+1)"
   ]
  },
  {
   "cell_type": "code",
   "execution_count": 66,
   "id": "a969fcca",
   "metadata": {},
   "outputs": [
    {
     "data": {
      "text/plain": [
       "165"
      ]
     },
     "execution_count": 66,
     "metadata": {},
     "output_type": "execute_result"
    }
   ],
   "source": [
    "(define (sum-map-next f a next b)\n",
    "  (define (sum-map-iter f a b sum)\n",
    "    (cond ((> a b) sum)\n",
    "          (else (sum-map-iter f (next a) b (+ sum (f a))))))\n",
    "  (sum-map-iter f a b 0))\n",
    "\n",
    "(define (skip-one n) (+ n 2))\n",
    "(sum-map-next square 1 skip-one 10) ; 1^2 + 3^2 + 5^2 + 7^2 + 9^2"
   ]
  },
  {
   "cell_type": "markdown",
   "id": "ffa45364",
   "metadata": {},
   "source": [
    "### Constructing Procedures Using Lambda"
   ]
  },
  {
   "cell_type": "markdown",
   "id": "4b0d0f2c",
   "metadata": {},
   "source": [
    "Scheme has anonymous functions (of course!)"
   ]
  },
  {
   "cell_type": "code",
   "execution_count": 67,
   "id": "969d6bb8",
   "metadata": {},
   "outputs": [
    {
     "data": {
      "text/plain": [
       "165"
      ]
     },
     "execution_count": 67,
     "metadata": {},
     "output_type": "execute_result"
    }
   ],
   "source": [
    "(sum-map-next (lambda (x) (* x x)) 1 skip-one 10)"
   ]
  },
  {
   "cell_type": "markdown",
   "id": "416863b5",
   "metadata": {},
   "source": [
    "Lambdas can be used to define local variables to work inside a procedure:"
   ]
  },
  {
   "cell_type": "code",
   "execution_count": 71,
   "id": "b3a29fa7",
   "metadata": {},
   "outputs": [
    {
     "data": {
      "text/plain": [
       "684"
      ]
     },
     "execution_count": 71,
     "metadata": {},
     "output_type": "execute_result"
    }
   ],
   "source": [
    "; f(x,y) = x(1+xy)^2 + y(1-y) + (1+xy)(1-y)  so lots of repetitions, let's make a=1+xy and b=1-y\n",
    "(define (f x y)\n",
    "  ((lambda (a b)\n",
    "   (+ (* x (square a)) (* y b) (* a b)))\n",
    "    (+ 1 (* x y))\n",
    "    (- 1 y))\n",
    "  )\n",
    "\n",
    "(f 3 5)"
   ]
  },
  {
   "cell_type": "markdown",
   "id": "3e7a0700",
   "metadata": {},
   "source": [
    "Since this need is so common, there's a special form for it, `let`:"
   ]
  },
  {
   "cell_type": "code",
   "execution_count": 74,
   "id": "8c56e346",
   "metadata": {},
   "outputs": [
    {
     "data": {
      "text/plain": [
       "684"
      ]
     },
     "execution_count": 74,
     "metadata": {},
     "output_type": "execute_result"
    }
   ],
   "source": [
    "(define (f x y)\n",
    "  (let ((a (+ 1 (* x y)))\n",
    "        (b (- 1 y)))\n",
    "  (+ (* x (square a))\n",
    "     (* y b)\n",
    "     (* a b))))\n",
    "\n",
    "(f 3 5)"
   ]
  },
  {
   "cell_type": "markdown",
   "id": "87d87c6e",
   "metadata": {},
   "source": [
    "### Procedures as Returned Values"
   ]
  },
  {
   "cell_type": "code",
   "execution_count": 80,
   "id": "e6e5095a",
   "metadata": {},
   "outputs": [
    {
     "name": "stdout",
     "output_type": "stream",
     "text": [
      "2\n",
      "3"
     ]
    }
   ],
   "source": [
    "(define (inc-factory n)\n",
    "  (lambda (x) (+ x n)))\n",
    "\n",
    "(define inc  (inc-factory 1))\n",
    "(define inc2 (inc-factory 2))\n",
    "\n",
    "(display (inc  1))\n",
    "(newline)\n",
    "(display (inc2 1))"
   ]
  },
  {
   "cell_type": "markdown",
   "id": "8a0eefbc",
   "metadata": {},
   "source": [
    "> As programmers, we should be alert to opportunities to identify the underlying abstractions in our\n",
    "programs and to build upon them and generalize them to create more powerful abstractions. This is not to\n",
    "say that one should always write programs in the most abstract way possible; expert programmers know\n",
    "how to choose the level of abstraction appropriate to their task. But it is important to be able to think in\n",
    "terms of these abstractions, so that we can be ready to apply them in new contexts. The significance of\n",
    "higher-order procedures is that they enable us to represent these abstractions explicitly as elements in our\n",
    "programming language, so that they can be handled just like other computational elements."
   ]
  },
  {
   "cell_type": "markdown",
   "id": "9adc497b",
   "metadata": {},
   "source": [
    "---"
   ]
  },
  {
   "cell_type": "markdown",
   "id": "f31dc8fb",
   "metadata": {},
   "source": [
    "SCIP solutions at http://community.schemewiki.org/?SICP-Solutions"
   ]
  }
 ],
 "metadata": {
  "kernelspec": {
   "display_name": "Calysto Scheme 3",
   "language": "scheme",
   "name": "calysto_scheme"
  },
  "language_info": {
   "codemirror_mode": {
    "name": "scheme"
   },
   "mimetype": "text/x-scheme",
   "name": "scheme",
   "pygments_lexer": "scheme"
  }
 },
 "nbformat": 4,
 "nbformat_minor": 5
}
