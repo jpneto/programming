{
 "cells": [
  {
   "cell_type": "code",
   "execution_count": 1,
   "id": "5e8acd9c",
   "metadata": {},
   "outputs": [],
   "source": [
    "(define nil '())\n",
    "(define (print x) (begin (display x) (newline)))"
   ]
  },
  {
   "cell_type": "markdown",
   "id": "6bb9504b",
   "metadata": {},
   "source": [
    "## Continuations"
   ]
  },
  {
   "cell_type": "markdown",
   "id": "6fb2e6a5",
   "metadata": {},
   "source": [
    "A continuation is a computation pending execution\n",
    "\n",
    "> For example, 0 + 1 + 2 is expressed in Scheme as (+ 2 (+ 1 0)). From the perspective of 0, what will happen is that 1 will be added to it, and then 2 will be added to the result. The continuation of 0 in this context is therefore these two additions. [[Beautiful ideas in programming: generators and continuations](https://www.hhyu.org/posts/generator_and_continuation/)]"
   ]
  },
  {
   "cell_type": "code",
   "execution_count": 2,
   "id": "2faa73ab",
   "metadata": {},
   "outputs": [
    {
     "data": {
      "text/plain": [
       "1003"
      ]
     },
     "execution_count": 2,
     "metadata": {},
     "output_type": "execute_result"
    }
   ],
   "source": [
    "(define continuation nil)\n",
    "\n",
    "(define store-continuation\n",
    "  (lambda (cc) \n",
    "    (set! continuation cc)\n",
    "    0))\n",
    "\n",
    "(+ 2 (+ 1 (call/cc store-continuation)))  ; continuation is now (lambda (x) (+2 (+ 1 x)))\n",
    "(print (continuation 1000))"
   ]
  },
  {
   "cell_type": "markdown",
   "id": "2f29d9ff",
   "metadata": {},
   "source": [
    "> In Scheme, we can use a function named `call/cc` to capture the current continuation, and then pass it to a different function, which is sometimes called the receiver. \n",
    "\n",
    "Consider the next Python function that uses an infinite generator:"
   ]
  },
  {
   "cell_type": "code",
   "execution_count": 7,
   "id": "54542e1f",
   "metadata": {},
   "outputs": [
    {
     "data": {
      "text/plain": [
       "140"
      ]
     },
     "execution_count": 7,
     "metadata": {},
     "output_type": "execute_result"
    }
   ],
   "source": [
    "(python-exec \" \n",
    "def squared_ints():\n",
    "    ''' Infinite generator, return i^2 for i = 1, 2, ... '''\n",
    "    i = 1\n",
    "    while True:\n",
    "        yield i*i\n",
    "        i += 1\n",
    "\n",
    "def sum_of_squares_python(bound):\n",
    "    ''' Return the smallest sum of squared integers greater than the bound '''\n",
    "    s, g = 0, squared_ints()\n",
    "    for i in g:      \n",
    "        s += i       \n",
    "        if s>bound:  \n",
    "            return s\n",
    "\")\n",
    "\n",
    "(sum_of_squares_python 100)  ; 1+4+9+16+25+36+49=140"
   ]
  },
  {
   "cell_type": "markdown",
   "id": "054ac53e",
   "metadata": {},
   "source": [
    "Let's use `call/cc` to implement this Python function:\n",
    "\n",
    "> Let’s implement the generator itself with call/cc. To make it happen, we need a mechanism to yield - to exit a function before it ends normally. We have already seen how it is done. Now, we need a mechanism that resumes the function after it has yielded. It’s not hard to see that we need two continuations."
   ]
  },
  {
   "cell_type": "code",
   "execution_count": 8,
   "id": "0148d74a",
   "metadata": {},
   "outputs": [
    {
     "data": {
      "text/plain": [
       "140"
      ]
     },
     "execution_count": 8,
     "metadata": {},
     "output_type": "execute_result"
    }
   ],
   "source": [
    "(define squared-ints\n",
    "  (lambda ()\n",
    "    (let* ((break #f)                  ;;; will store a continuation to break out of the function\n",
    "\t       (resume #f)                 ;;; will store a continuation to resume after yielding\n",
    "\t       (yield                      ;;; define the function \"yield\"\n",
    "\t         (lambda (value)\n",
    "\t          (call/cc                 ;;;   capture the current continuation\n",
    "\t            (lambda (r)\n",
    "\t\t         (set! resume r)       ;;;   store it in \"resume\"\n",
    "\t\t         (break value))))))    ;;;   and break out \n",
    "      \n",
    "      (lambda ()                       ;;; will return a function (a closure)\n",
    "\t    (call/cc                       ;;; capture the current continuation...\n",
    "\t      (lambda (cc)\n",
    "\t       (set! break cc)             ;;; ...and store it in \"break\"\n",
    "\t       (if resume                  ;;; if this generator has been called before...\n",
    "\t           (resume '())            ;;; ... resume it\n",
    "\t           (let loop ((i 1))       ;;; otherwise, loop through i=1, 2, 3, 4...\n",
    "\t\t         (yield (* i i))       ;;; yield the square of i\n",
    "\t\t         (loop (+ i 1))))))))))\n",
    "\n",
    "\n",
    "(define sum-of-squares\n",
    "  (lambda (bound)                        ;; define (sum-of-squares bound)\n",
    "     (call/cc\n",
    "       (lambda (break)                   ;; define a reciever: first capture the continuation into break\n",
    "\t     (let ((g (squared-ints)))       ;; make the generator g\n",
    "\t       (let loop ((s 0))             ;; define the recursive function (loop s), where s is the accumulated value\n",
    "\t         (let ((new-s (+ s (g))))    ;; compute the new accumulated value\n",
    "\t           (if (> new-s bound)       ;; if the new accumulated value is larger than bound\n",
    "\t\t           (break new-s)         ;; exit the loop\n",
    "\t\t           (loop new-s)))))))))  ;; otherwise, continue the loop with the new accumulated value\n",
    "\n",
    "(sum-of-squares 100)"
   ]
  },
  {
   "cell_type": "markdown",
   "id": "6a526655",
   "metadata": {},
   "source": [
    "---"
   ]
  },
  {
   "cell_type": "markdown",
   "id": "a3c5011e",
   "metadata": {},
   "source": [
    "### Making a generator\n",
    "\n",
    "The next code implements a generator-like object [[ref](https://jupyter.brynmawr.edu/services/public/dblank/CS245%20Programming%20Languages/2014-Fall/Notes/Call%20with%20Current%20Continuation.ipynb)]"
   ]
  },
  {
   "cell_type": "code",
   "execution_count": 16,
   "id": "c1b11f5a",
   "metadata": {},
   "outputs": [
    {
     "name": "stdout",
     "output_type": "stream",
     "text": [
      "0\n",
      "a\n",
      "2\n",
      "()\n",
      "()\n"
     ]
    }
   ],
   "source": [
    "(define generator\n",
    "  (lambda (lst)\n",
    " \n",
    "  ;; Hand the next item from a-list to \"return\" or an end-of-list marker\n",
    "  (define control-state\n",
    "   (lambda (yield)\n",
    "    (for-each \n",
    "     (lambda (element)\n",
    "               (set! yield (call/cc\n",
    "                              (lambda (resume-here)\n",
    "                                  ;; Grab the current continuation\n",
    "                                  (set! control-state resume-here)\n",
    "                                  (yield element)))))\n",
    "     lst)\n",
    "    (yield '())))\n",
    " \n",
    "  ;; This is the actual generator, producing one item from a-list at a time\n",
    "  (define start-generator\n",
    "    (lambda ()\n",
    "      (call/cc control-state)))\n",
    " \n",
    "  ;; Return the generator \n",
    "  start-generator))\n",
    " \n",
    "(define next\n",
    "  (generator '(0 a 2)))\n",
    "\n",
    "(print (next)) \n",
    "(print (next))\n",
    "(print (next))\n",
    "(print (next))\n",
    "(print (next))"
   ]
  },
  {
   "cell_type": "markdown",
   "id": "3e021b11",
   "metadata": {},
   "source": [
    "There is a module with generator procedures for Scheme at https://depp.brause.cc/srfi-158/"
   ]
  },
  {
   "cell_type": "markdown",
   "id": "9dcff8f9",
   "metadata": {},
   "source": [
    "### Implementing a solver with continuations"
   ]
  },
  {
   "cell_type": "code",
   "execution_count": 17,
   "id": "390d8c87",
   "metadata": {},
   "outputs": [],
   "source": [
    "; current-continuation : -> continuation\n",
    "(define (current-continuation) \n",
    "  (call/cc \n",
    "   (lambda (cc)\n",
    "     (cc cc))))\n",
    "\n",
    "; fail-stack : list[continuation]\n",
    "(define fail-stack '())\n",
    "\n",
    "; fail : -> ...\n",
    "(define (fail)\n",
    "  (if (not (pair? fail-stack))\n",
    "      (error fail \"back-tracking stack exhausted!\")\n",
    "      (begin\n",
    "        (let ((back-track-point (car fail-stack)))\n",
    "          (set! fail-stack (cdr fail-stack))\n",
    "          (back-track-point back-track-point)))))\n",
    "\n",
    "; amb : list[a] -> a\n",
    "(define (amb choices)\n",
    "  (let ((cc (current-continuation)))\n",
    "    (cond\n",
    "      ((null? choices) (fail))\n",
    "      ((pair? choices) (let ((choice (car choices)))\n",
    "                         (set! choices (cdr choices))\n",
    "                         (set! fail-stack (cons cc fail-stack))\n",
    "                         choice)))))\n",
    "\n",
    "; (assert condition) will cause\n",
    "; condition to be true, and if there\n",
    "; is no way to make it true, then\n",
    "; it signals and error in the program.\n",
    "(define (assert condition)\n",
    "  (if (not condition)\n",
    "      (fail)\n",
    "      #t))"
   ]
  },
  {
   "cell_type": "markdown",
   "id": "8fe8759d",
   "metadata": {},
   "source": [
    "We're looking for dimensions of a legal right triangle using the Pythagorean theorem:\n",
    "\n",
    "$a^2+b^2=c^2$\n",
    "\n",
    "And, we want the second side (b) to be the shorter one:\n",
    "\n",
    "$b<a$"
   ]
  },
  {
   "cell_type": "code",
   "execution_count": 25,
   "id": "f25eb7e7",
   "metadata": {},
   "outputs": [
    {
     "name": "stdout",
     "output_type": "stream",
     "text": [
      "(8 6 10)\n"
     ]
    }
   ],
   "source": [
    "(let ((a (amb (list 1 2 3   5 6 7 8 9 10)))\n",
    "      (b (amb (list 1 2 3 4 5 6 7 8 9 10)))\n",
    "      (c (amb (list 1 2 3 4 5 6 7 8 9 10))))\n",
    "    \n",
    "  (assert (= (* c c) (+ (* a a) (* b b))))\n",
    "  (assert (< b a))\n",
    "\n",
    "  (print (list a b c)))"
   ]
  },
  {
   "cell_type": "markdown",
   "id": "901727c7",
   "metadata": {},
   "source": [
    "Another reference: https://matt.might.net/articles/programming-with-continuations--exceptions-backtracking-search-threads-generators-coroutines/"
   ]
  },
  {
   "cell_type": "code",
   "execution_count": null,
   "id": "91a3acf3",
   "metadata": {},
   "outputs": [],
   "source": []
  }
 ],
 "metadata": {
  "kernelspec": {
   "display_name": "Calysto Scheme 3",
   "language": "scheme",
   "name": "calysto_scheme"
  },
  "language_info": {
   "codemirror_mode": {
    "name": "scheme"
   },
   "mimetype": "text/x-scheme",
   "name": "scheme",
   "pygments_lexer": "scheme"
  }
 },
 "nbformat": 4,
 "nbformat_minor": 5
}
